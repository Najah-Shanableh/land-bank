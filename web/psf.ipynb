{
 "metadata": {
  "name": "psf"
 },
 "nbformat": 3,
 "nbformat_minor": 0,
 "worksheets": [
  {
   "cells": [
    {
     "cell_type": "code",
     "collapsed": false,
     "input": [
      "from models import Assessor"
     ],
     "language": "python",
     "outputs": [],
     "prompt_number": 1
    },
    {
     "cell_type": "code",
     "collapsed": false,
     "input": [
      "Assessor._meta.get_all_field_names()"
     ],
     "language": "python",
     "outputs": []
    },
    {
     "cell_type": "code",
     "collapsed": false,
     "input": [
      "Assessor.objects.filter(ptype__exact=1,ca_num__exact=1).values('sqft_bldg','sqft_land', 'current_building_assmt','current_land_assmt')\n"
     ],
     "language": "python",
     "outputs": []
    },
    {
     "cell_type": "code",
     "collapsed": false,
     "input": [
      "[x[\"sqft_bldg\"] for x in _]"
     ],
     "language": "python",
     "outputs": []
    },
    {
     "cell_type": "code",
     "collapsed": false,
     "input": [
      "import numpy as np\n",
      "import pandas as pd\n",
      "import matplotlib.pyplot as plt"
     ],
     "language": "python",
     "outputs": [],
     "prompt_number": 16
    },
    {
     "cell_type": "code",
     "collapsed": false,
     "input": [
      "from django_pandas.managers import DataFrameManager\n",
      "\n",
      "class MyModel(models.Model):\n",
      "\n",
      "      land_assmt=Assessor.current_land_assmt\n",
      "      bldg_assmt=Assessor.current_building_assmt\n",
      "      CA_name=Assessor.ca_name\n",
      "      sqft_land=Assessor.sqft_land\n",
      "      sqft_bldg=Assessor.sqft_bldg\n",
      "\n",
      "      objects = DataFrameManager()"
     ],
     "language": "python",
     "outputs": []
    },
    {
     "cell_type": "code",
     "collapsed": false,
     "input": [
      "from django_pandas.managers import *"
     ],
     "language": "python",
     "outputs": [],
     "prompt_number": 3
    },
    {
     "cell_type": "code",
     "collapsed": false,
     "input": [
      "df=Assessor.df_objects.to_dataframe('ca_name', 'ptype_desc','sqft_land', 'sqft_bldg','current_land_assmt','current_building_assmt',fill_method=np.nan)"
     ],
     "language": "python",
     "outputs": [],
     "prompt_number": 4
    },
    {
     "cell_type": "code",
     "collapsed": false,
     "input": [
      "sf=df[df['ptype_desc']=='SINGLE FAMILY']\n",
      "sf['sqft_land_tmp']=sf['sqft_land']\n",
      "sf['sqft_land_tmp'][sf['sqft_land'] == 0.0]=np.nan\n",
      "sf['sqft_bldg_tmp']=sf['sqft_bldg']\n",
      "sf['sqft_bldg_tmp'][sf['sqft_bldg'] == 0.0]=np.nan"
     ],
     "language": "python",
     "outputs": [],
     "prompt_number": 5
    },
    {
     "cell_type": "code",
     "collapsed": false,
     "input": [
      "sf['land_assmt_11_psf']=sf['current_land_assmt']/sf['sqft_land_tmp']\n",
      "sf['bldg_assmt_11_psf']=sf['current_building_assmt']/sf['sqft_bldg_tmp']\n"
     ],
     "language": "python",
     "outputs": [],
     "prompt_number": 7
    },
    {
     "cell_type": "code",
     "collapsed": false,
     "input": [
      "CA_names=sf['ca_name'].unique()\n",
      "sf['Msqft_land_11']=(10 ** (-3))*sf['sqft_land']\n",
      "sf['Msqft_bldg_11']=(10 ** (-3))*sf['sqft_bldg']"
     ],
     "language": "python",
     "outputs": [],
     "prompt_number": 8
    },
    {
     "cell_type": "code",
     "collapsed": false,
     "input": [
      "ca=CA_names[0]\n",
      "ca  "
     ],
     "language": "python",
     "outputs": [
      {
       "output_type": "pyout",
       "prompt_number": 22,
       "text": [
        "u'Austin'"
       ]
      }
     ],
     "prompt_number": 22
    },
    {
     "cell_type": "code",
     "collapsed": false,
     "input": [
      "ap_land_psf=sf['land_assmt_11_psf'][sf['ca_name']==ca].map(lambda x: x if x != np.inf else np.nan)\n",
      "ap_bldg_psf=sf['bldg_assmt_11_psf'][sf['ca_name']==ca].map(lambda x: x if x != np.inf else np.nan)\n",
      "fig = plt.figure()\n",
      "fig.suptitle(ca,fontsize=14)\n",
      "ax=fig.add_subplot(221)\n",
      "n_land_psf, bins_land_psf, patches = ax.hist(ap_land_psf[ap_land_psf.notnull()].T, bins = 10, normed=False, facecolor='red', alpha=0.4)\n",
      "ax.set_xlabel('$')\n",
      "ax.set_ylabel('Count')\n",
      "ax.set_title('Land PSF and Size Dist')\n",
      "ax.grid(True)\n",
      "ax=fig.add_subplot(222)\n",
      "to_hist = ap_bldg_psf.T.values\n",
      "to_hist = to_hist[np.logical_not(np.isnan(to_hist))]\n",
      "n_bldg_psf, bins_bldg_psf, patches = ax.hist(to_hist, bins = 10, normed=False, facecolor='red', alpha=0.4)\n",
      "ax.set_xlabel('$')\n",
      "ax.grid(True)\n",
      "ax.set_title('Building PSF and Size Dist')\n",
      "ax=fig.add_subplot(223)\n",
      "ax.set_xlabel('10^3 ft^2')\n",
      "ax.set_ylabel('count')\n",
      "n_land_msf, bins_land_msf, patches = ax.hist(sf['Msqft_land_11'][sf['ca_name']==ca][ap_land_psf.notnull()].T, bins = 10, normed=False, facecolor='blue', alpha=0.4)\n",
      "ax.grid(True)\n",
      "ax=fig.add_subplot(224)\n",
      "ax.set_xlabel('10^3 ft^2')\n",
      "n_bldg_msf, bins_bldg_msf, patches = ax.hist(sf['Msqft_bldg_11'][sf['ca_name']==ca][ap_land_psf.notnull()].T, bins = 10, normed=False, facecolor='blue', alpha=0.4)\n",
      "ax.grid(True)\n",
      "fig.set_size_inches(7,5)\n",
      "fig.tight_layout()\n",
      "fig.subplots_adjust(top=0.85)\n"
     ],
     "language": "python",
     "outputs": [],
     "prompt_number": 21
    },
    {
     "cell_type": "code",
     "collapsed": false,
     "input": [
      "print n_bldg_msf,bins_bldg_msf"
     ],
     "language": "python",
     "outputs": [
      {
       "output_type": "stream",
       "stream": "stdout",
       "text": [
        "[ 101 4635 3367  790  139   33    5    3    0    1] [ 0.      0.6546  1.3092  1.9638  2.6184  3.273   3.9276  4.5822  5.2368\n",
        "  5.8914  6.546 ]\n"
       ]
      }
     ],
     "prompt_number": 25
    },
    {
     "cell_type": "code",
     "collapsed": false,
     "input": [
      "plt.show()"
     ],
     "language": "python",
     "outputs": [],
     "prompt_number": 23
    },
    {
     "cell_type": "code",
     "collapsed": false,
     "input": [
      "for ca in CA_names[0]:\n",
      "    ap_land_psf=sf['land_assmt_11_psf'][sf['ca_name']==ca].map(lambda x: x if x != inf else np.nan)\n",
      "    ap_bldg_psf=sf['bldg_assmt_11_psf'][sf['ca_name']==ca].map(lambda x: x if x != inf else np.nan)\n",
      "    fig = plt.figure()\n",
      "    fig.suptitle(ca,fontsize=14)\n",
      "    ax=fig.add_subplot(221)\n",
      "    n_land_psf, bins_land_psf, patches = ax.hist(ap_land_psf[ap_land_psf.notnull()].T, bins = 10, normed=False, facecolor='red', alpha=0.4)\n",
      "    ax.set_xlabel('$')\n",
      "    ax.set_ylabel('Count')\n",
      "    ax.set_title('Land PSF and Size Dist')\n",
      "    ax.grid(True)\n",
      "    ax=fig.add_subplot(222)\n",
      "    to_hist = ap_bldg_psf.T.values\n",
      "    to_hist = to_hist[np.logical_not(np.isnan(to_hist))]\n",
      "    n_bldg_psf, bins_bldg_psf, patches = ax.hist(to_hist, bins = 10, normed=False, facecolor='red', alpha=0.4)\n",
      "    ax.set_xlabel('$')\n",
      "    ax.grid(True)\n",
      "    ax.set_title('Building PSF and Size Dist')\n",
      "    ax=fig.add_subplot(223)\n",
      "    ax.set_xlabel('10^3 ft^2')\n",
      "    ax.set_ylabel('count')\n",
      "    n_land_msf, bins_land_msf, patches = ax.hist(sf['Msqft_land_11'][sf['CA_name']==ca][ap_land_psf.notnull()].T, bins = 10, normed=False, facecolor='blue', alpha=0.4)\n",
      "    ax.grid(True)\n",
      "    ax=fig.add_subplot(224)\n",
      "    ax.set_xlabel('10^3 ft^2')\n",
      "    n_bldg_msf, bins_bldg_msf, patches = ax.hist(sf['Msqft_bldg_11'][sf['CA_name']==ca][ap_land_psf.notnull()].T, bins = 10, normed=False, facecolor='blue', alpha=0.4)\n",
      "    ax.grid(True)\n",
      "    fig.set_size_inches(7,5)\n",
      "    fig.tight_layout()\n",
      "    fig.subplots_adjust(top=0.85)\n",
      "#    fig.savefig('/home/evan/Documents/chicago/dssg-landbank-project/analysis/ca_desc/'+ ca + '.png')\n",
      "    plt.show()\n",
      "    histData=build_json(ca,n_land_psf,bins_land_psf,n_bldg_psf,bins_bldg_psf,n_land_msf,bins_land_msf,n_bldg_msf,bins_bldg_msf)\n",
      "    \n",
      "#    fig.clf()\n",
      "#   data = []\n",
      "#    data.append({'graph_title': ca \n",
      "#    for b,v in zip (bins_land_psf, n_land_psf)\n",
      "#      data.append({'x':b,'y':v})\n",
      "    \n"
     ],
     "language": "python",
     "outputs": [
      {
       "output_type": "stream",
       "stream": "stderr",
       "text": [
        "/home/emisshula/.virtualenvs/dssg/lib/python2.7/site-packages/matplotlib/axes.py:8037: UserWarning: 2D hist input should be nsamples x nvariables;\n",
        " this looks transposed (shape is 0 x 1)\n",
        "  'this looks transposed (shape is %d x %d)' % x.shape[::-1])\n",
        "\n"
       ]
      },
      {
       "output_type": "stream",
       "stream": "stderr",
       "text": [
        "WARNING:py.warnings:/home/emisshula/.virtualenvs/dssg/lib/python2.7/site-packages/matplotlib/axes.py:8037: UserWarning: 2D hist input should be nsamples x nvariables;\n",
        " this looks transposed (shape is 0 x 1)\n",
        "  'this looks transposed (shape is %d x %d)' % x.shape[::-1])\n",
        "\n"
       ]
      },
      {
       "ename": "ValueError",
       "evalue": "zero-size array to reduction operation minimum which has no identity",
       "output_type": "pyerr",
       "traceback": [
        "\u001b[1;31m---------------------------------------------------------------------------\u001b[0m\n\u001b[1;31mValueError\u001b[0m                                Traceback (most recent call last)",
        "\u001b[1;32m<ipython-input-10-bdf0b8dd31c9>\u001b[0m in \u001b[0;36m<module>\u001b[1;34m()\u001b[0m\n\u001b[0;32m      5\u001b[0m     \u001b[0mfig\u001b[0m\u001b[1;33m.\u001b[0m\u001b[0msuptitle\u001b[0m\u001b[1;33m(\u001b[0m\u001b[0mca\u001b[0m\u001b[1;33m,\u001b[0m\u001b[0mfontsize\u001b[0m\u001b[1;33m=\u001b[0m\u001b[1;36m14\u001b[0m\u001b[1;33m)\u001b[0m\u001b[1;33m\u001b[0m\u001b[0m\n\u001b[0;32m      6\u001b[0m     \u001b[0max\u001b[0m\u001b[1;33m=\u001b[0m\u001b[0mfig\u001b[0m\u001b[1;33m.\u001b[0m\u001b[0madd_subplot\u001b[0m\u001b[1;33m(\u001b[0m\u001b[1;36m221\u001b[0m\u001b[1;33m)\u001b[0m\u001b[1;33m\u001b[0m\u001b[0m\n\u001b[1;32m----> 7\u001b[1;33m     \u001b[0mn_land_psf\u001b[0m\u001b[1;33m,\u001b[0m \u001b[0mbins_land_psf\u001b[0m\u001b[1;33m,\u001b[0m \u001b[0mpatches\u001b[0m \u001b[1;33m=\u001b[0m \u001b[0max\u001b[0m\u001b[1;33m.\u001b[0m\u001b[0mhist\u001b[0m\u001b[1;33m(\u001b[0m\u001b[0map_land_psf\u001b[0m\u001b[1;33m[\u001b[0m\u001b[0map_land_psf\u001b[0m\u001b[1;33m.\u001b[0m\u001b[0mnotnull\u001b[0m\u001b[1;33m(\u001b[0m\u001b[1;33m)\u001b[0m\u001b[1;33m]\u001b[0m\u001b[1;33m.\u001b[0m\u001b[0mT\u001b[0m\u001b[1;33m,\u001b[0m \u001b[0mbins\u001b[0m \u001b[1;33m=\u001b[0m \u001b[1;36m10\u001b[0m\u001b[1;33m,\u001b[0m \u001b[0mnormed\u001b[0m\u001b[1;33m=\u001b[0m\u001b[0mFalse\u001b[0m\u001b[1;33m,\u001b[0m \u001b[0mfacecolor\u001b[0m\u001b[1;33m=\u001b[0m\u001b[1;34m'red'\u001b[0m\u001b[1;33m,\u001b[0m \u001b[0malpha\u001b[0m\u001b[1;33m=\u001b[0m\u001b[1;36m0.4\u001b[0m\u001b[1;33m)\u001b[0m\u001b[1;33m\u001b[0m\u001b[0m\n\u001b[0m\u001b[0;32m      8\u001b[0m     \u001b[0max\u001b[0m\u001b[1;33m.\u001b[0m\u001b[0mset_xlabel\u001b[0m\u001b[1;33m(\u001b[0m\u001b[1;34m'$'\u001b[0m\u001b[1;33m)\u001b[0m\u001b[1;33m\u001b[0m\u001b[0m\n\u001b[0;32m      9\u001b[0m     \u001b[0max\u001b[0m\u001b[1;33m.\u001b[0m\u001b[0mset_ylabel\u001b[0m\u001b[1;33m(\u001b[0m\u001b[1;34m'Count'\u001b[0m\u001b[1;33m)\u001b[0m\u001b[1;33m\u001b[0m\u001b[0m\n",
        "\u001b[1;32m/home/emisshula/.virtualenvs/dssg/lib/python2.7/site-packages/matplotlib/axes.pyc\u001b[0m in \u001b[0;36mhist\u001b[1;34m(self, x, bins, range, normed, weights, cumulative, bottom, histtype, align, orientation, rwidth, log, color, label, stacked, **kwargs)\u001b[0m\n\u001b[0;32m   8095\u001b[0m             \u001b[0mxmax\u001b[0m \u001b[1;33m=\u001b[0m \u001b[1;33m-\u001b[0m\u001b[0mnp\u001b[0m\u001b[1;33m.\u001b[0m\u001b[0minf\u001b[0m\u001b[1;33m\u001b[0m\u001b[0m\n\u001b[0;32m   8096\u001b[0m             \u001b[1;32mfor\u001b[0m \u001b[0mxi\u001b[0m \u001b[1;32min\u001b[0m \u001b[0mx\u001b[0m\u001b[1;33m:\u001b[0m\u001b[1;33m\u001b[0m\u001b[0m\n\u001b[1;32m-> 8097\u001b[1;33m                 \u001b[0mxmin\u001b[0m \u001b[1;33m=\u001b[0m \u001b[0mmin\u001b[0m\u001b[1;33m(\u001b[0m\u001b[0mxmin\u001b[0m\u001b[1;33m,\u001b[0m \u001b[0mxi\u001b[0m\u001b[1;33m.\u001b[0m\u001b[0mmin\u001b[0m\u001b[1;33m(\u001b[0m\u001b[1;33m)\u001b[0m\u001b[1;33m)\u001b[0m\u001b[1;33m\u001b[0m\u001b[0m\n\u001b[0m\u001b[0;32m   8098\u001b[0m                 \u001b[0mxmax\u001b[0m \u001b[1;33m=\u001b[0m \u001b[0mmax\u001b[0m\u001b[1;33m(\u001b[0m\u001b[0mxmax\u001b[0m\u001b[1;33m,\u001b[0m \u001b[0mxi\u001b[0m\u001b[1;33m.\u001b[0m\u001b[0mmax\u001b[0m\u001b[1;33m(\u001b[0m\u001b[1;33m)\u001b[0m\u001b[1;33m)\u001b[0m\u001b[1;33m\u001b[0m\u001b[0m\n\u001b[0;32m   8099\u001b[0m             \u001b[0mbin_range\u001b[0m \u001b[1;33m=\u001b[0m \u001b[1;33m(\u001b[0m\u001b[0mxmin\u001b[0m\u001b[1;33m,\u001b[0m \u001b[0mxmax\u001b[0m\u001b[1;33m)\u001b[0m\u001b[1;33m\u001b[0m\u001b[0m\n",
        "\u001b[1;32m/home/emisshula/.virtualenvs/dssg/lib/python2.7/site-packages/numpy/core/_methods.pyc\u001b[0m in \u001b[0;36m_amin\u001b[1;34m(a, axis, out, keepdims)\u001b[0m\n\u001b[0;32m     12\u001b[0m \u001b[1;32mdef\u001b[0m \u001b[0m_amin\u001b[0m\u001b[1;33m(\u001b[0m\u001b[0ma\u001b[0m\u001b[1;33m,\u001b[0m \u001b[0maxis\u001b[0m\u001b[1;33m=\u001b[0m\u001b[0mNone\u001b[0m\u001b[1;33m,\u001b[0m \u001b[0mout\u001b[0m\u001b[1;33m=\u001b[0m\u001b[0mNone\u001b[0m\u001b[1;33m,\u001b[0m \u001b[0mkeepdims\u001b[0m\u001b[1;33m=\u001b[0m\u001b[0mFalse\u001b[0m\u001b[1;33m)\u001b[0m\u001b[1;33m:\u001b[0m\u001b[1;33m\u001b[0m\u001b[0m\n\u001b[0;32m     13\u001b[0m     return um.minimum.reduce(a, axis=axis,\n\u001b[1;32m---> 14\u001b[1;33m                             out=out, keepdims=keepdims)\n\u001b[0m\u001b[0;32m     15\u001b[0m \u001b[1;33m\u001b[0m\u001b[0m\n\u001b[0;32m     16\u001b[0m \u001b[1;32mdef\u001b[0m \u001b[0m_sum\u001b[0m\u001b[1;33m(\u001b[0m\u001b[0ma\u001b[0m\u001b[1;33m,\u001b[0m \u001b[0maxis\u001b[0m\u001b[1;33m=\u001b[0m\u001b[0mNone\u001b[0m\u001b[1;33m,\u001b[0m \u001b[0mdtype\u001b[0m\u001b[1;33m=\u001b[0m\u001b[0mNone\u001b[0m\u001b[1;33m,\u001b[0m \u001b[0mout\u001b[0m\u001b[1;33m=\u001b[0m\u001b[0mNone\u001b[0m\u001b[1;33m,\u001b[0m \u001b[0mkeepdims\u001b[0m\u001b[1;33m=\u001b[0m\u001b[0mFalse\u001b[0m\u001b[1;33m)\u001b[0m\u001b[1;33m:\u001b[0m\u001b[1;33m\u001b[0m\u001b[0m\n",
        "\u001b[1;31mValueError\u001b[0m: zero-size array to reduction operation minimum which has no identity"
       ]
      }
     ],
     "prompt_number": 10
    },
    {
     "cell_type": "code",
     "collapsed": false,
     "input": [
      "import json\n",
      "def build_json(ca,n_land_psf,bins_land_psf,n_bldg_psf,bins_bldg_psf,n_land_msf,bins_land_msf,n_bldg_msf,bins_bldg_msf):\n",
      "    histData['title']=ca\n",
      "    histData['land_psf']=[]\n",
      "    for b,v in zip(bins_land_psf,n_land_psf):\n",
      "      histData['land_psf'].append({'x':b, 'y':v})\n",
      "    histData['bldg_psf'] = []\n",
      "    for b,v in zip(bins_bldg_psf,n_bldg_psf):\n",
      "      histData['bldg_psf'].append({'x':b, 'y':v})\n",
      "    histData['land_msf'] = []\n",
      "    for b,v in zip(bins_land_msf,n_land_msf):\n",
      "      histData['land_msf'].append({'x':b, 'y':v})\n",
      "    histData['bldg_msf'] = []\n",
      "    for b,v in zip(bins_bldg_msf,n_bldg_msf):\n",
      "      histData['bldg_msf'].append({'x':b, 'y':v})\n",
      "    return histData"
     ],
     "language": "python",
     "outputs": [],
     "prompt_number": 32
    },
    {
     "cell_type": "code",
     "collapsed": false,
     "input": [
      "ap_land_psf=sf['land_assmt_11_psf'][sf['ca_name']==ca].map(lambda x: x if x != np.inf else np.nan)\n",
      "ap_bldg_psf=sf['bldg_assmt_11_psf'][sf['ca_name']==ca].map(lambda x: x if x != np.inf else np.nan)\n",
      "fig = plt.figure()\n",
      "fig.suptitle(ca,fontsize=14)\n",
      "ax=fig.add_subplot(221)\n",
      "n_land_psf, bins_land_psf, patches = ax.hist(ap_land_psf[ap_land_psf.notnull()].T, bins = 10, normed=False, facecolor='red', alpha=0.4)\n",
      "ax.set_xlabel('$')\n",
      "ax.set_ylabel('Count')\n",
      "ax.set_title('Land PSF and Size Dist')\n",
      "ax.grid(True)\n",
      "ax=fig.add_subplot(222)\n",
      "to_hist = ap_bldg_psf.T.values\n",
      "to_hist = to_hist[np.logical_not(np.isnan(to_hist))]\n",
      "n_bldg_psf, bins_bldg_psf, patches = ax.hist(to_hist, bins = 10, normed=False, facecolor='red', alpha=0.4)\n",
      "ax.set_xlabel('$')\n",
      "ax.grid(True)\n",
      "ax.set_title('Building PSF and Size Dist')\n",
      "ax=fig.add_subplot(223)\n",
      "ax.set_xlabel('10^3 ft^2')\n",
      "ax.set_ylabel('count')\n",
      "n_land_msf, bins_land_msf, patches = ax.hist(sf['Msqft_land_11'][sf['ca_name']==ca][ap_land_psf.notnull()].T, bins = 10, normed=False, facecolor='blue', alpha=0.4)\n",
      "ax.grid(True)\n",
      "ax=fig.add_subplot(224)\n",
      "ax.set_xlabel('10^3 ft^2')\n",
      "n_bldg_msf, bins_bldg_msf, patches = ax.hist(sf['Msqft_bldg_11'][sf['ca_name']==ca][ap_land_psf.notnull()].T, bins = 10, normed=False, facecolor='blue', alpha=0.4)\n",
      "ax.grid(True)\n",
      "fig.set_size_inches(7,5)\n",
      "fig.tight_layout()\n",
      "fig.subplots_adjust(top=0.85)"
     ],
     "language": "python",
     "outputs": [
      {
       "output_type": "stream",
       "stream": "stdout",
       "text": [
        "{\n",
        "    \"land_msf\":[\n",
        "        {\n",
        "            \"y\":5498,\n",
        "            \"x\":0.22500000000000001\n",
        "        },\n",
        "        {\n",
        "            \"y\":3231,\n",
        "            \"x\":4.1624999999999996\n",
        "        },\n",
        "        {\n",
        "            \"y\":327,\n",
        "            \"x\":8.0999999999999996\n",
        "        },\n",
        "        {\n",
        "            \"y\":11,\n",
        "            \"x\":12.0375\n",
        "        },\n",
        "        {\n",
        "            \"y\":2,\n",
        "            \"x\":15.975\n",
        "        },\n",
        "        {\n",
        "            \"y\":3,\n",
        "            \"x\":19.912500000000001\n",
        "        },\n",
        "        {\n",
        "            \"y\":1,\n",
        "            \"x\":23.850000000000001\n",
        "        },\n",
        "        {\n",
        "            \"y\":0,\n",
        "            \"x\":27.787500000000001\n",
        "        },\n",
        "        {\n",
        "            \"y\":0,\n",
        "            \"x\":31.725000000000001\n",
        "        },\n",
        "        {\n",
        "            \"y\":1,\n",
        "            \"x\":35.662500000000001\n",
        "        }\n",
        "    ],\n",
        "    \"bldg_psf\":[\n",
        "        {\n",
        "            \"y\":82,\n",
        "            \"x\":0.44846796657381616\n",
        "        },\n",
        "        {\n",
        "            \"y\":1228,\n",
        "            \"x\":3.4304311246675656\n",
        "        },\n",
        "        {\n",
        "            \"y\":3102,\n",
        "            \"x\":6.4123942827613156\n",
        "        },\n",
        "        {\n",
        "            \"y\":1975,\n",
        "            \"x\":9.3943574408550639\n",
        "        },\n",
        "        {\n",
        "            \"y\":1373,\n",
        "            \"x\":12.376320598948814\n",
        "        },\n",
        "        {\n",
        "            \"y\":856,\n",
        "            \"x\":15.358283757042564\n",
        "        },\n",
        "        {\n",
        "            \"y\":365,\n",
        "            \"x\":18.340246915136312\n",
        "        },\n",
        "        {\n",
        "            \"y\":60,\n",
        "            \"x\":21.322210073230064\n",
        "        },\n",
        "        {\n",
        "            \"y\":1,\n",
        "            \"x\":24.304173231323812\n",
        "        },\n",
        "        {\n",
        "            \"y\":3,\n",
        "            \"x\":27.28613638941756\n",
        "        }\n",
        "    ],\n",
        "    \"land_psf\":[\n",
        "        {\n",
        "            \"y\":2,\n",
        "            \"x\":0.074965400584345684\n",
        "        },\n",
        "        {\n",
        "            \"y\":1,\n",
        "            \"x\":0.22746886052591114\n",
        "        },\n",
        "        {\n",
        "            \"y\":2,\n",
        "            \"x\":0.37997232046747659\n",
        "        },\n",
        "        {\n",
        "            \"y\":1,\n",
        "            \"x\":0.53247578040904198\n",
        "        },\n",
        "        {\n",
        "            \"y\":1,\n",
        "            \"x\":0.68497924035060742\n",
        "        },\n",
        "        {\n",
        "            \"y\":0,\n",
        "            \"x\":0.83748270029217287\n",
        "        },\n",
        "        {\n",
        "            \"y\":3350,\n",
        "            \"x\":0.98998616023373831\n",
        "        },\n",
        "        {\n",
        "            \"y\":2904,\n",
        "            \"x\":1.1424896201753036\n",
        "        },\n",
        "        {\n",
        "            \"y\":2240,\n",
        "            \"x\":1.2949930801168692\n",
        "        },\n",
        "        {\n",
        "            \"y\":573,\n",
        "            \"x\":1.4474965400584348\n",
        "        }\n",
        "    ],\n",
        "    \"bldg_msf\":[\n",
        "        {\n",
        "            \"y\":101,\n",
        "            \"x\":0.0\n",
        "        },\n",
        "        {\n",
        "            \"y\":4635,\n",
        "            \"x\":0.65460000000000007\n",
        "        },\n",
        "        {\n",
        "            \"y\":3367,\n",
        "            \"x\":1.3092000000000001\n",
        "        },\n",
        "        {\n",
        "            \"y\":790,\n",
        "            \"x\":1.9638000000000002\n",
        "        },\n",
        "        {\n",
        "            \"y\":139,\n",
        "            \"x\":2.6184000000000003\n",
        "        },\n",
        "        {\n",
        "            \"y\":33,\n",
        "            \"x\":3.2730000000000006\n",
        "        },\n",
        "        {\n",
        "            \"y\":5,\n",
        "            \"x\":3.9276000000000004\n",
        "        },\n",
        "        {\n",
        "            \"y\":3,\n",
        "            \"x\":4.5822000000000003\n",
        "        },\n",
        "        {\n",
        "            \"y\":0,\n",
        "            \"x\":5.2368000000000006\n",
        "        },\n",
        "        {\n",
        "            \"y\":1,\n",
        "            \"x\":5.8914000000000009\n",
        "        }\n",
        "    ],\n",
        "    \"title\":\"Austin\"\n",
        "}\n"
       ]
      }
     ],
     "prompt_number": 36
    },
    {
     "cell_type": "code",
     "collapsed": false,
     "input": [
      "print histData"
     ],
     "language": "python",
     "outputs": [
      {
       "output_type": "stream",
       "stream": "stdout",
       "text": [
        "None\n"
       ]
      }
     ],
     "prompt_number": 31
    },
    {
     "cell_type": "code",
     "collapsed": false,
     "input": [],
     "language": "python",
     "outputs": []
    }
   ]
  }
 ]
}