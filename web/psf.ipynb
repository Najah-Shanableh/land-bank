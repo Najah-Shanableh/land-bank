{
 "metadata": {
  "name": "psf"
 },
 "nbformat": 3,
 "nbformat_minor": 0,
 "worksheets": [
  {
   "cells": [
    {
     "cell_type": "code",
     "collapsed": false,
     "input": [
      "from models import Assessor"
     ],
     "language": "python",
     "outputs": [],
     "prompt_number": 1
    },
    {
     "cell_type": "code",
     "collapsed": false,
     "input": [
      "Assessor._meta.get_all_field_names()"
     ],
     "language": "python",
     "outputs": [
      {
       "output_type": "pyout",
       "prompt_number": 2,
       "text": [
        "['attic_desc',\n",
        " 'basement_desc',\n",
        " 'ca_name',\n",
        " 'ca_num',\n",
        " 'chicago_flag',\n",
        " 'class_desc',\n",
        " 'current_building_assmt',\n",
        " 'current_land_assmt',\n",
        " 'current_total_assmt',\n",
        " 'direction',\n",
        " 'estim_hunit',\n",
        " 'ext_desc',\n",
        " 'garage_desc',\n",
        " 'gisdate',\n",
        " 'houseno',\n",
        " u'id',\n",
        " 'lat_y',\n",
        " 'loc',\n",
        " 'long_x',\n",
        " 'no_tract_info',\n",
        " 'pin',\n",
        " 'place',\n",
        " 'ptype',\n",
        " 'ptype_desc',\n",
        " 'sqft_bldg',\n",
        " 'sqft_land',\n",
        " 'street',\n",
        " 'tract_fix',\n",
        " 'type_pt_2_4',\n",
        " 'type_pt_5',\n",
        " 'type_pt_condo',\n",
        " 'type_pt_nonres',\n",
        " 'type_pt_sf',\n",
        " 'type_pt_unknown',\n",
        " 'ward',\n",
        " 'year_built']"
       ]
      }
     ],
     "prompt_number": 2
    },
    {
     "cell_type": "code",
     "collapsed": false,
     "input": [
      "Assessor.objects.filter(ptype__exact=1,ca_num__exact=1).values('sqft_bldg','sqft_land', 'current_building_assmt','current_land_assmt')\n"
     ],
     "language": "python",
     "outputs": []
    },
    {
     "cell_type": "code",
     "collapsed": false,
     "input": [
      "[x[\"sqft_bldg\"] for x in _]"
     ],
     "language": "python",
     "outputs": []
    },
    {
     "cell_type": "code",
     "collapsed": false,
     "input": [
      "import numpy as np\n",
      "import pandas as pd\n",
      "import matplotlib.pyplot as plt"
     ],
     "language": "python",
     "outputs": [],
     "prompt_number": 3
    },
    {
     "cell_type": "code",
     "collapsed": false,
     "input": [
      "from django_pandas.managers import DataFrameManager\n",
      "\n",
      "class MyModel(models.Model):\n",
      "\n",
      "      land_assmt=Assessor.current_land_assmt\n",
      "      bldg_assmt=Assessor.current_building_assmt\n",
      "      CA_name=Assessor.ca_name\n",
      "      sqft_land=Assessor.sqft_land\n",
      "      sqft_bldg=Assessor.sqft_bldg\n",
      "\n",
      "      objects = DataFrameManager()"
     ],
     "language": "python",
     "outputs": [
      {
       "ename": "NameError",
       "evalue": "name 'models' is not defined",
       "output_type": "pyerr",
       "traceback": [
        "\u001b[1;31m---------------------------------------------------------------------------\u001b[0m\n\u001b[1;31mNameError\u001b[0m                                 Traceback (most recent call last)",
        "\u001b[1;32m<ipython-input-8-890d9b32a44e>\u001b[0m in \u001b[0;36m<module>\u001b[1;34m()\u001b[0m\n\u001b[0;32m      1\u001b[0m \u001b[1;32mfrom\u001b[0m \u001b[0mdjango_pandas\u001b[0m\u001b[1;33m.\u001b[0m\u001b[0mmanagers\u001b[0m \u001b[1;32mimport\u001b[0m \u001b[0mDataFrameManager\u001b[0m\u001b[1;33m\u001b[0m\u001b[0m\n\u001b[0;32m      2\u001b[0m \u001b[1;33m\u001b[0m\u001b[0m\n\u001b[1;32m----> 3\u001b[1;33m \u001b[1;32mclass\u001b[0m \u001b[0mMyModel\u001b[0m\u001b[1;33m(\u001b[0m\u001b[0mmodels\u001b[0m\u001b[1;33m.\u001b[0m\u001b[0mModel\u001b[0m\u001b[1;33m)\u001b[0m\u001b[1;33m:\u001b[0m\u001b[1;33m\u001b[0m\u001b[0m\n\u001b[0m\u001b[0;32m      4\u001b[0m \u001b[1;33m\u001b[0m\u001b[0m\n\u001b[0;32m      5\u001b[0m       \u001b[0mland_assmt\u001b[0m\u001b[1;33m=\u001b[0m\u001b[0mAssessor\u001b[0m\u001b[1;33m.\u001b[0m\u001b[0mcurrent_land_assmt\u001b[0m\u001b[1;33m\u001b[0m\u001b[0m\n",
        "\u001b[1;31mNameError\u001b[0m: name 'models' is not defined"
       ]
      }
     ],
     "prompt_number": 8
    },
    {
     "cell_type": "code",
     "collapsed": false,
     "input": [
      "from django_pandas.managers import *"
     ],
     "language": "python",
     "outputs": [],
     "prompt_number": 6
    },
    {
     "cell_type": "code",
     "collapsed": false,
     "input": [
      "df=Assessor.df_objects.to_dataframe('ca_name', 'ptype_desc','sqft_land', 'sqft_bldg','current_land_assmt','current_building_assmt',fill_method=np.nan)"
     ],
     "language": "python",
     "outputs": [],
     "prompt_number": 8
    },
    {
     "cell_type": "code",
     "collapsed": false,
     "input": [],
     "language": "python",
     "outputs": [],
     "prompt_number": 9
    },
    {
     "cell_type": "code",
     "collapsed": false,
     "input": [],
     "language": "python",
     "outputs": []
    }
   ]
  }
 ]
}