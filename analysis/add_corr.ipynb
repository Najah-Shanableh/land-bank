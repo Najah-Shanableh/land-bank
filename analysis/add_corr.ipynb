{
 "metadata": {
  "name": "housing_stock_by_ward"
 },
 "nbformat": 3,
 "nbformat_minor": 0,
 "worksheets": [
  {
   "cells": [
    {
     "cell_type": "code",
     "collapsed": false,
     "input": [
      "!ls ~/Documents/chicago"
     ],
     "language": "python",
     "outputs": []
    },
    {
     "cell_type": "code",
     "collapsed": false,
     "input": [
      "import pandas as pd\n",
      "import numpy as np\n",
      "df=pd.read_table(\"/home/evan/Documents/chicago/ihs/cook_2011_semi.dat\",sep=\"\\t\")\n",
      "print df.columns"
     ],
     "language": "python",
     "outputs": [
      {
       "output_type": "stream",
       "stream": "stdout",
       "text": [
        "Index([pin1, HOUSENO, DIR, STREET, AGE_11, ATTIC_DESC_11, BASEMENT_DESC_11, CLASS_DESCRIPTION_11, CURRENT_BUILDING_ASSMT_11, CURRENT_LAND_ASSMT_11, CURRENT_TOTAL_ASSMT_11, EXT_DESC_11, GARAGE_DESC_11, sqft_bldg_11, sqft_land_11, PTYPE2011, Type1_PT_SF, Type1_PT_Condo, Type1_PT_2_4, Type1_PT_5, Type1_PT_NonRes, Type1_PT_Unknown, PT_Type1_Cat, Adj_Modi_Hunit_2011, LAT_Y, LNG_X, Tract_Fix, No_Tract_Info, CA_num, CA_name, Place00, Ward, ChicagoFlag, GISDate], dtype=object)\n"
       ]
      }
     ],
     "prompt_number": 1
    },
    {
     "cell_type": "code",
     "collapsed": false,
     "input": [
      "ward=df['Ward']\n",
      "tot_val=df['CURRENT_TOTAL_ASSMT_11']\n",
      "pin=df['pin1']\n",
      "house=df['HOUSENO']\n",
      "direction=df['DIR']\n",
      "street=df['STREET']\n",
      "age_11=df['AGE_11']\n",
      "attic_desc_11=df['ATTIC_DESC_11']\n",
      "basement_desc_11=df['BASEMENT_DESC_11']\n",
      "class_description_11=df['CLASS_DESCRIPTION_11']\n",
      "current_building_assmt_11=df['CURRENT_BUILDING_ASSMT_11']\n",
      "current_land_assmt_11=df['CURRENT_LAND_ASSMT_11']\n",
      "current_total_assmt_11=df['CURRENT_TOTAL_ASSMT_11']\n",
      "ext_desc_11=df['EXT_DESC_11']\n",
      "garage_desc_11=df['GARAGE_DESC_11']\n",
      "sqft_bldg_11=df['sqft_bldg_11']"
     ],
     "language": "python",
     "outputs": [],
     "prompt_number": 2
    },
    {
     "cell_type": "code",
     "collapsed": false,
     "input": [
      "sqft_land_11=df['sqft_land_11']\n",
      "ptype2011=df['PTYPE2011']\n",
      "type1_pt_SF=df['Type1_PT_SF']\n",
      "type1_pt_Condo=df['Type1_PT_Condo']\n",
      "type1_pt_2_4=df['Type1_PT_2_4']\n",
      "type1_pt_5=df['Type1_PT_5']\n",
      "type1_pt_NonRes=df['Type1_PT_NonRes']\n",
      "type1_pt_Unknown=df['Type1_PT_Unknown']\n",
      "pt_type1_cat=df['PT_Type1_Cat']\n",
      "adj_modi_hunit_2011=df['Adj_Modi_Hunit_2011']\n",
      "lat_Y=df['LAT_Y']\n",
      "lng_X=df['LNG_X']\n",
      "tract_fix=df['Tract_Fix']\n",
      "no_tract_Info=df['No_Tract_Info']\n",
      "ca_num=df['CA_num']\n",
      "ca_name=df['CA_name']\n",
      "place00=df['Place00']\n",
      "ward=df['Ward']\n",
      "chicagoflag=df['ChicagoFlag']\n",
      "gisdate=df['GISDate']\n"
     ],
     "language": "python",
     "outputs": [],
     "prompt_number": 3
    },
    {
     "cell_type": "code",
     "collapsed": false,
     "input": [
      "df['ca_name']=ca_name.map(lambda x: np.nan if isinstance(x, basestring) and (x.isspace() or (x == 'LETTER PROPERTY')) else x)\n",
      "df['Ward']=df['Ward'].map(lambda x: np.nan if isinstance(x, basestring) and (x.isspace()) else x)\n",
      "df['AGE_11']=age_11.map(lambda x: np.nan if isinstance(x, basestring) and (x.isspace()) else x)\n",
      "df['CURRENT_BUILDING_ASSMT_11']=df['CURRENT_BUILDING_ASSMT_11'].map(lambda x: np.nan if isinstance(x, basestring) and (x.isspace() or (x == 'LETTER PROPERTY')) else x)\n",
      "df['CURRENT_LAND_ASSMT_11']=df['CURRENT_LAND_ASSMT_11'].map(lambda x: np.nan if isinstance(x, basestring) and (x.isspace() or (x == 'LETTER PROPERTY')) else x) \n",
      "df['CURRENT_TOTAL_ASSMT_11']=df['CURRENT_TOTAL_ASSMT_11'].map(lambda x: np.nan if isinstance(x, basestring) and (x.isspace() or (x == 'LETTER PROPERTY')) else x)\n"
     ],
     "language": "python",
     "outputs": [],
     "prompt_number": 4
    },
    {
     "cell_type": "code",
     "collapsed": false,
     "input": [
      "cook_house_stock_properties=pd.concat([ward,chicagoflag,ca_name,ca_num,sqft_bldg_11,sqft_land_11,age_11,current_total_assmt_11,current_building_assmt_11,current_land_assmt_11],join='outer',axis=1)\n",
      "chicago_house_properties=cook_house_stock_properties[ chicagoflag == 1]"
     ],
     "language": "python",
     "outputs": [],
     "prompt_number": 5
    },
    {
     "cell_type": "code",
     "collapsed": false,
     "input": [
      "#Drop na's\n",
      "cook_house_stock_properties=cook_house_stock_properties.dropna()"
     ],
     "language": "python",
     "outputs": [],
     "prompt_number": 6
    },
    {
     "cell_type": "code",
     "collapsed": false,
     "input": [
      "cook_house_stock_properties?\n"
     ],
     "language": "python",
     "outputs": [],
     "prompt_number": 7
    },
    {
     "cell_type": "code",
     "collapsed": false,
     "input": [
      "cook_house_stock_properties.columns"
     ],
     "language": "python",
     "outputs": []
    },
    {
     "cell_type": "code",
     "collapsed": false,
     "input": [
      "#process integers\n",
      "cook_house_stock_properties['CA_num']=cook_house_stock_properties['CA_num'].map(int)\n",
      "cook_house_stock_properties['sqft_bldg_11']=cook_house_stock_properties['sqft_bldg_11'].map(int)\n",
      "cook_house_stock_properties['sqft_land_11']=cook_house_stock_properties['sqft_land_11'].map(int)\n"
     ],
     "language": "python",
     "outputs": [],
     "prompt_number": 8
    },
    {
     "cell_type": "code",
     "collapsed": false,
     "input": [
      "cook_house_stock_properties['CURRENT_BUILDING_ASSMT_11']=cook_house_stock_properties['CURRENT_BUILDING_ASSMT_11'].map(int)\n",
      "cook_house_stock_properties['CURRENT_LAND_ASSMT_11']=cook_house_stock_properties['CURRENT_LAND_ASSMT_11'].map(int)\n",
      "cook_house_stock_properties['CURRENT_TOTAL_ASSMT_11']=cook_house_stock_properties['CURRENT_TOTAL_ASSMT_11'].map(int)\n"
     ],
     "language": "python",
     "outputs": [],
     "prompt_number": 10
    },
    {
     "cell_type": "code",
     "collapsed": false,
     "input": [],
     "language": "python",
     "outputs": []
    }
   ]
  }
 ]
}