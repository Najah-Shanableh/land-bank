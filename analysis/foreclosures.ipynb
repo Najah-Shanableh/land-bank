{
 "metadata": {
  "name": "foreclosures"
 },
 "nbformat": 3,
 "nbformat_minor": 0,
 "worksheets": [
  {
   "cells": [
    {
     "cell_type": "code",
     "collapsed": false,
     "input": [
      "import pandas as pd\n",
      "import numpy as np"
     ],
     "language": "python",
     "metadata": {},
     "outputs": [],
     "prompt_number": 2
    },
    {
     "cell_type": "code",
     "collapsed": false,
     "input": [
      "df=pd.read_table(\"/mnt/ebs/data/repdata_forc_2012q4_Fellows.tsv\",sep=\"\\t\")\n",
      "print df.columns"
     ],
     "language": "python",
     "metadata": {},
     "outputs": [
      {
       "output_type": "stream",
       "stream": "stdout",
       "text": [
        "Index([pin1, filing_date, case_num1, case_num2, case_num3, Defendant_First_Name, Defendant_Last_Name, Plantiff, YYYYQ_DOC, YEARD, APT, DIR, HOUSENO, STREET, SUFFIX, ADDR_FINAL, CITY_FINAL, LAT_Y, LNG_X, Tract_Fix, No_Tract_Info, CA_num, CA_name, Place00, GISDate, PTYPE1_CAT, RESIDENTIAL_PROPERTY, ADJ_YYYYQ, ADJ_YYYYD], dtype=object)\n"
       ]
      }
     ],
     "prompt_number": 3
    },
    {
     "cell_type": "code",
     "collapsed": false,
     "input": [
      "df[:1]"
     ],
     "language": "python",
     "metadata": {},
     "outputs": [
      {
       "html": [
        "<pre>\n",
        "&ltclass 'pandas.core.frame.DataFrame'&gt\n",
        "Int64Index: 1 entries, 1 to 1\n",
        "Data columns (total 29 columns):\n",
        "pin1                    1  non-null values\n",
        "filing_date             1  non-null values\n",
        "case_num1               1  non-null values\n",
        "case_num2               1  non-null values\n",
        "case_num3               1  non-null values\n",
        "Defendant_First_Name    1  non-null values\n",
        "Defendant_Last_Name     1  non-null values\n",
        "Plantiff                1  non-null values\n",
        "YYYYQ_DOC               1  non-null values\n",
        "YEARD                   1  non-null values\n",
        "APT                     1  non-null values\n",
        "DIR                     1  non-null values\n",
        "HOUSENO                 1  non-null values\n",
        "STREET                  1  non-null values\n",
        "SUFFIX                  1  non-null values\n",
        "ADDR_FINAL              1  non-null values\n",
        "CITY_FINAL              1  non-null values\n",
        "LAT_Y                   1  non-null values\n",
        "LNG_X                   1  non-null values\n",
        "Tract_Fix               1  non-null values\n",
        "No_Tract_Info           1  non-null values\n",
        "CA_num                  1  non-null values\n",
        "CA_name                 1  non-null values\n",
        "Place00                 1  non-null values\n",
        "GISDate                 1  non-null values\n",
        "PTYPE1_CAT              1  non-null values\n",
        "RESIDENTIAL_PROPERTY    1  non-null values\n",
        "ADJ_YYYYQ               1  non-null values\n",
        "ADJ_YYYYD               1  non-null values\n",
        "dtypes: float64(6), int64(9), object(14)\n",
        "</pre>"
       ],
       "output_type": "pyout",
       "prompt_number": 4,
       "text": [
        "           pin1  filing_date  case_num1 case_num2  case_num3  \\\n",
        "1  1.012140e+12  13496716800       2010        CH      27268   \n",
        "\n",
        "                                Defendant_First_Name  \\\n",
        "1                                                ...   \n",
        "\n",
        "                   Defendant_Last_Name  \\\n",
        "1                                        \n",
        "\n",
        "                                            Plantiff  YYYYQ_DOC  YEARD    APT  \\\n",
        "1                                                ...      20102   2010          \n",
        "\n",
        "  DIR HOUSENO                  STREET SUFFIX                       ADDR_FINAL  \\\n",
        "1       610    Division                 St    610 DIVISION ST                   \n",
        "\n",
        "              CITY_FINAL    LAT_Y      LNG_X  Tract_Fix  No_Tract_Info  \\\n",
        "1  BARRINGTON             42.1478 -88.129997    8042.02              0   \n",
        "\n",
        "   CA_num                 CA_name                Place00         GISDate  \\\n",
        "1     312  Northwest Cook          Barrington             gis_11-13-2012   \n",
        "\n",
        "   PTYPE1_CAT  RESIDENTIAL_PROPERTY  ADJ_YYYYQ  ADJ_YYYYD  \n",
        "1           1                     1      20102       2010  "
       ]
      }
     ],
     "prompt_number": 4
    },
    {
     "cell_type": "code",
     "collapsed": false,
     "input": [
      "df['PTYPE1_CAT'].unique()"
     ],
     "language": "python",
     "metadata": {},
     "outputs": [
      {
       "output_type": "pyout",
       "prompt_number": 6,
       "text": [
        "array([1, 5, 2, 4, 3])"
       ]
      }
     ],
     "prompt_number": 6
    },
    {
     "cell_type": "code",
     "collapsed": false,
     "input": [
      "df['Plantiff']=df['Plantiff'].map(lambda x: np.nan if isinstance(x, basestring) and (x.isspace() or (x == 'LETTER PROPERTY')) else x) "
     ],
     "language": "python",
     "metadata": {},
     "outputs": [],
     "prompt_number": 7
    },
    {
     "cell_type": "code",
     "collapsed": false,
     "input": [
      "df['Plantiff'][:10]"
     ],
     "language": "python",
     "metadata": {},
     "outputs": [
      {
       "output_type": "pyout",
       "prompt_number": 8,
       "text": [
        "1     NaN\n",
        "2     NaN\n",
        "3     NaN\n",
        "4     NaN\n",
        "5     NaN\n",
        "6     NaN\n",
        "7     NaN\n",
        "8     NaN\n",
        "9     NaN\n",
        "10    NaN\n",
        "Name: Plantiff, dtype: object"
       ]
      }
     ],
     "prompt_number": 8
    },
    {
     "cell_type": "code",
     "collapsed": false,
     "input": [
      "# Index([pin1, filing_date, case_num1, case_num2, case_num3, Defendant_First_Name, Defendant_Last_Name, Plantiff, YYYYQ_DOC, YEARD, APT, DIR, HOUSENO, STREET, SUFFIX, ADDR_FINAL, CITY_FINAL, LAT_Y, LNG_X, Tract_Fix, No_Tract_Info, CA_num, CA_name, Place00, GISDate, PTYPE1_CAT, RESIDENTIAL_PROPERTY, ADJ_YYYYQ, ADJ_YYYYD], dtype=object)\n",
      "YYYYQ_DOC=df['YYYYQ_DOC']\n",
      "PTYPE1_CAT=df['PTYPE1_CAT']\n",
      "CA_num=df['CA_num']\n",
      "CA_name=df['CA_name']\n",
      "RESIDENTIAL_PROPERTY=df['RESIDENTIAL_PROPERTY']"
     ],
     "language": "python",
     "metadata": {},
     "outputs": [],
     "prompt_number": 9
    },
    {
     "cell_type": "code",
     "collapsed": false,
     "input": [
      "forclosure_count_by_ca_name=df[['YYYYQ_DOC','PTYPE1_CAT','CA_num','CA_name','RESIDENTIAL_PROPERTY']]"
     ],
     "language": "python",
     "metadata": {},
     "outputs": [],
     "prompt_number": 10
    },
    {
     "cell_type": "code",
     "collapsed": false,
     "input": [
      "RESIDENTIAL_PROPERTY.unique()"
     ],
     "language": "python",
     "metadata": {},
     "outputs": [
      {
       "output_type": "pyout",
       "prompt_number": 11,
       "text": [
        "array([1, 0])"
       ]
      }
     ],
     "prompt_number": 11
    },
    {
     "cell_type": "code",
     "collapsed": false,
     "input": [
      "forclosure_count_by_ca_name['yyyyq_doc']=forclosure_count_by_ca_name['YYYYQ_DOC'].map(int64)"
     ],
     "language": "python",
     "metadata": {},
     "outputs": []
    },
    {
     "cell_type": "code",
     "collapsed": false,
     "input": [
      "forclosure_count_by_ca_name=forclosure_count_by_ca_name[forclosure_count_by_ca_name['yyyyq_doc'].notnull()]"
     ],
     "language": "python",
     "metadata": {},
     "outputs": []
    },
    {
     "cell_type": "code",
     "collapsed": false,
     "input": [
      "single_family_forclosure_count_by_ca_name=forclosure_count_by_ca_name[forclosure_count_by_ca_name['PTYPE1_CAT'] == 1]\n",
      "single_family_forclosure_count_by_ca_name.count(axis=0)"
     ],
     "language": "python",
     "metadata": {},
     "outputs": [
      {
       "output_type": "pyout",
       "prompt_number": 12,
       "text": [
        "YYYYQ_DOC               178280\n",
        "PTYPE1_CAT              178280\n",
        "CA_num                  178280\n",
        "CA_name                 178280\n",
        "RESIDENTIAL_PROPERTY    178280\n",
        "dtype: int64"
       ]
      }
     ],
     "prompt_number": 12
    },
    {
     "cell_type": "code",
     "collapsed": false,
     "input": [
      "sfca=single_family_forclosure_count_by_ca_name.groupby('CA_name').count()['YYYYQ_DOC']"
     ],
     "language": "python",
     "metadata": {},
     "outputs": [],
     "prompt_number": 13
    },
    {
     "cell_type": "code",
     "collapsed": false,
     "input": [
      "sfca[:10]"
     ],
     "language": "python",
     "metadata": {},
     "outputs": [
      {
       "output_type": "pyout",
       "prompt_number": 14,
       "text": [
        "CA_name\n",
        "Albany Park                470\n",
        "Archer Heights             408\n",
        "Armour Square               27\n",
        "Ashburn                   3561\n",
        "Auburn Gresham            2726\n",
        "Austin                    3187\n",
        "Avalon Park                909\n",
        "Avondale                   404\n",
        "Belmont Cragin            2829\n",
        "Beverly                    781\n",
        "Name: YYYYQ_DOC, dtype: int64"
       ]
      }
     ],
     "prompt_number": 14
    },
    {
     "cell_type": "code",
     "collapsed": false,
     "input": [
      "sfca.to_csv(\"/home/emisshula/dssg-landbank-project/analysis/single_family_defaults_by_ca.csv\")\n"
     ],
     "language": "python",
     "metadata": {},
     "outputs": [],
     "prompt_number": 15
    },
    {
     "cell_type": "code",
     "collapsed": false,
     "input": [
      "sfcat=single_family_forclosure_count_by_ca_name.groupby(['CA_name','YYYYQ_DOC']).count()['YYYYQ_DOC']"
     ],
     "language": "python",
     "metadata": {},
     "outputs": [],
     "prompt_number": 16
    },
    {
     "cell_type": "code",
     "collapsed": false,
     "input": [
      "sfcat[:10]"
     ],
     "language": "python",
     "metadata": {},
     "outputs": [
      {
       "output_type": "pyout",
       "prompt_number": 17,
       "text": [
        "CA_name                 YYYYQ_DOC\n",
        "Albany Park             20051        1\n",
        "                        20052        2\n",
        "                        20053        2\n",
        "                        20054        4\n",
        "                        20061        4\n",
        "                        20062        5\n",
        "                        20063        7\n",
        "                        20064        5\n",
        "                        20071        6\n",
        "                        20072        6\n",
        "Name: YYYYQ_DOC, dtype: int64"
       ]
      }
     ],
     "prompt_number": 17
    },
    {
     "cell_type": "code",
     "collapsed": false,
     "input": [
      "sfcat.to_csv(\"/home/emisshula/dssg-landbank-project/analysis/single_family_defaults_by_ca_over_time.csv\")"
     ],
     "language": "python",
     "metadata": {},
     "outputs": [],
     "prompt_number": 18
    },
    {
     "cell_type": "code",
     "collapsed": false,
     "input": [
      "forclosure_count_by_ca_name"
     ],
     "language": "python",
     "metadata": {},
     "outputs": []
    },
    {
     "cell_type": "code",
     "collapsed": false,
     "input": [
      "fc=forclosure_count_by_ca_name.groupby('CA_name').count()['YYYYQ_DOC']\n"
     ],
     "language": "python",
     "metadata": {},
     "outputs": []
    },
    {
     "cell_type": "code",
     "collapsed": false,
     "input": [
      "fc[:10]"
     ],
     "language": "python",
     "metadata": {},
     "outputs": []
    },
    {
     "cell_type": "code",
     "collapsed": false,
     "input": [
      "fc.sum()"
     ],
     "language": "python",
     "metadata": {},
     "outputs": []
    },
    {
     "cell_type": "code",
     "collapsed": false,
     "input": [
      "fcs=forclosure_count_by_ca_name['YYYYQ_DOC'].unique()"
     ],
     "language": "python",
     "metadata": {},
     "outputs": []
    },
    {
     "cell_type": "code",
     "collapsed": false,
     "input": [
      "np.sort(fcs)"
     ],
     "language": "python",
     "metadata": {},
     "outputs": []
    },
    {
     "cell_type": "code",
     "collapsed": false,
     "input": [
      "a"
     ],
     "language": "python",
     "metadata": {},
     "outputs": []
    },
    {
     "cell_type": "code",
     "collapsed": false,
     "input": [
      "forclosure_count_by_ca_name['open_fc'][:10]"
     ],
     "language": "python",
     "metadata": {},
     "outputs": []
    },
    {
     "cell_type": "code",
     "collapsed": false,
     "input": [
      "forclosure_count_by_ca_name['open_fc'][:10]"
     ],
     "language": "python",
     "metadata": {},
     "outputs": []
    },
    {
     "cell_type": "code",
     "collapsed": false,
     "input": [
      "fc=forclosure_count_by_ca_name.groupby(['CA_name','YYYYQ_DOC']).count()['YYYYQ_DOC']"
     ],
     "language": "python",
     "metadata": {},
     "outputs": []
    },
    {
     "cell_type": "code",
     "collapsed": false,
     "input": [
      "fc "
     ],
     "language": "python",
     "metadata": {},
     "outputs": []
    },
    {
     "cell_type": "code",
     "collapsed": false,
     "input": [
      "fc.to_csv('testfc.csv')"
     ],
     "language": "python",
     "metadata": {},
     "outputs": []
    },
    {
     "cell_type": "code",
     "collapsed": false,
     "input": [
      "pd.set_option('display.multi_sparse',False)"
     ],
     "language": "python",
     "metadata": {},
     "outputs": []
    },
    {
     "cell_type": "code",
     "collapsed": false,
     "input": [
      "fc[:4]"
     ],
     "language": "python",
     "metadata": {},
     "outputs": []
    },
    {
     "cell_type": "code",
     "collapsed": false,
     "input": [
      "pd.set_option('display.multi_sparse',True)"
     ],
     "language": "python",
     "metadata": {},
     "outputs": []
    },
    {
     "cell_type": "code",
     "collapsed": false,
     "input": [
      "fc[:4]"
     ],
     "language": "python",
     "metadata": {},
     "outputs": []
    },
    {
     "cell_type": "code",
     "collapsed": false,
     "input": [],
     "language": "python",
     "metadata": {},
     "outputs": []
    }
   ],
   "metadata": {}
  }
 ]
}