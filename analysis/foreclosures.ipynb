{
 "metadata": {
  "name": "foreclosures"
 },
 "nbformat": 3,
 "nbformat_minor": 0,
 "worksheets": [
  {
   "cells": [
    {
     "cell_type": "code",
     "collapsed": false,
     "input": [
      "import pandas as pd\n",
      "import numpy as np"
     ],
     "language": "python",
     "outputs": []
    },
    {
     "cell_type": "code",
     "collapsed": false,
     "input": [
      "df=pd.read_table(\"/mnt/ebs/data/repdata_forc_2012q4_Fellows.tsv\",sep=\"\\t\")\n",
      "print df.columns"
     ],
     "language": "python",
     "outputs": [
      {
       "output_type": "stream",
       "stream": "stdout",
       "text": [
        "Index([pin1, filing_date, case_num1, case_num2, case_num3, Defendant_First_Name, Defendant_Last_Name, Plantiff, YYYYQ_DOC, YEARD, APT, DIR, HOUSENO, STREET, SUFFIX, ADDR_FINAL, CITY_FINAL, LAT_Y, LNG_X, Tract_Fix, No_Tract_Info, CA_num, CA_name, Place00, GISDate, PTYPE1_CAT, RESIDENTIAL_PROPERTY, ADJ_YYYYQ, ADJ_YYYYD], dtype=object)\n"
       ]
      }
     ],
     "prompt_number": 2
    },
    {
     "cell_type": "code",
     "collapsed": false,
     "input": [
      "df[:1]"
     ],
     "language": "python",
     "outputs": []
    },
    {
     "cell_type": "code",
     "collapsed": false,
     "input": [
      "df['PTYPE1_CAT'].unique()"
     ],
     "language": "python",
     "outputs": []
    },
    {
     "cell_type": "code",
     "collapsed": false,
     "input": [
      "df['Plantiff']=df['Plantiff'].map(lambda x: np.nan if isinstance(x, basestring) and (x.isspace() or (x == 'LETTER PROPERTY')) else x) "
     ],
     "language": "python",
     "outputs": []
    },
    {
     "cell_type": "code",
     "collapsed": false,
     "input": [
      "df['Plantiff'][:10]"
     ],
     "language": "python",
     "outputs": []
    },
    {
     "cell_type": "code",
     "collapsed": false,
     "input": [
      "# Index([pin1, filing_date, case_num1, case_num2, case_num3, Defendant_First_Name, Defendant_Last_Name, Plantiff, YYYYQ_DOC, YEARD, APT, DIR, HOUSENO, STREET, SUFFIX, ADDR_FINAL, CITY_FINAL, LAT_Y, LNG_X, Tract_Fix, No_Tract_Info, CA_num, CA_name, Place00, GISDate, PTYPE1_CAT, RESIDENTIAL_PROPERTY, ADJ_YYYYQ, ADJ_YYYYD], dtype=object)\n",
      "YYYYQ_DOC=df['YYYYQ_DOC']\n",
      "PTYPE1_CAT=df['PTYPE1_CAT']\n",
      "CA_num=df['CA_num']\n",
      "CA_name=df['CA_name']\n",
      "RESIDENTIAL_PROPERTY=df['RESIDENTIAL_PROPERTY']"
     ],
     "language": "python",
     "outputs": [],
     "prompt_number": 3
    },
    {
     "cell_type": "code",
     "collapsed": false,
     "input": [
      "forclosure_count_by_ca_name=df[['YYYYQ_DOC','PTYPE1_CAT','CA_num','CA_name','RESIDENTIAL_PROPERTY']]"
     ],
     "language": "python",
     "outputs": [],
     "prompt_number": 4
    },
    {
     "cell_type": "code",
     "collapsed": false,
     "input": [
      "RESIDENTIAL_PROPERTY.unique()"
     ],
     "language": "python",
     "outputs": []
    },
    {
     "cell_type": "code",
     "collapsed": false,
     "input": [
      "forclosure_count_by_ca_name['yyyyq_doc']=forclosure_count_by_ca_name['YYYYQ_DOC'].map(int64)"
     ],
     "language": "python",
     "outputs": []
    },
    {
     "cell_type": "code",
     "collapsed": false,
     "input": [
      "forclosure_count_by_ca_name=forclosure_count_by_ca_name[forclosure_count_by_ca_name['YYYYQ_DOC'].notnull()]"
     ],
     "language": "python",
     "outputs": [],
     "prompt_number": 6
    },
    {
     "cell_type": "code",
     "collapsed": false,
     "input": [
      "single_family_forclosure_count_by_ca_name=forclosure_count_by_ca_name[forclosure_count_by_ca_name['PTYPE1_CAT'] == 1]\n",
      "single_family_forclosure_count_by_ca_name.count(axis=0)"
     ],
     "language": "python",
     "outputs": []
    },
    {
     "cell_type": "code",
     "collapsed": false,
     "input": [
      "sfca=single_family_forclosure_count_by_ca_name.groupby('CA_name').count()['YYYYQ_DOC']"
     ],
     "language": "python",
     "outputs": []
    },
    {
     "cell_type": "code",
     "collapsed": false,
     "input": [
      "sfca[:10]"
     ],
     "language": "python",
     "outputs": []
    },
    {
     "cell_type": "code",
     "collapsed": false,
     "input": [
      "sfca.to_csv(\"/home/emisshula/dssg-landbank-project/analysis/single_family_defaults_by_ca.csv\")\n"
     ],
     "language": "python",
     "outputs": []
    },
    {
     "cell_type": "code",
     "collapsed": false,
     "input": [
      "sfcat=single_family_forclosure_count_by_ca_name.groupby(['CA_name','YYYYQ_DOC']).count()['YYYYQ_DOC']"
     ],
     "language": "python",
     "outputs": []
    },
    {
     "cell_type": "code",
     "collapsed": false,
     "input": [
      "sfcat[:10]"
     ],
     "language": "python",
     "outputs": []
    },
    {
     "cell_type": "code",
     "collapsed": false,
     "input": [
      "sfcat.to_csv(\"/home/emisshula/dssg-landbank-project/analysis/single_family_defaults_by_ca_over_time.csv\")"
     ],
     "language": "python",
     "outputs": []
    },
    {
     "cell_type": "code",
     "collapsed": false,
     "input": [
      "forclosure_count_by_ca_name"
     ],
     "language": "python",
     "outputs": []
    },
    {
     "cell_type": "code",
     "collapsed": false,
     "input": [
      "fc=forclosure_count_by_ca_name.groupby('CA_name').count()['YYYYQ_DOC']\n"
     ],
     "language": "python",
     "outputs": []
    },
    {
     "cell_type": "code",
     "collapsed": false,
     "input": [
      "fc[:10]"
     ],
     "language": "python",
     "outputs": []
    },
    {
     "cell_type": "code",
     "collapsed": false,
     "input": [
      "fc.sum()"
     ],
     "language": "python",
     "outputs": []
    },
    {
     "cell_type": "code",
     "collapsed": false,
     "input": [
      "fcs=forclosure_count_by_ca_name['YYYYQ_DOC'].unique()"
     ],
     "language": "python",
     "outputs": []
    },
    {
     "cell_type": "code",
     "collapsed": false,
     "input": [
      "np.sort(fcs)"
     ],
     "language": "python",
     "outputs": []
    },
    {
     "cell_type": "code",
     "collapsed": false,
     "input": [
      "a"
     ],
     "language": "python",
     "outputs": []
    },
    {
     "cell_type": "code",
     "collapsed": false,
     "input": [
      "forclosure_count_by_ca_name['open_fc'][:10]"
     ],
     "language": "python",
     "outputs": []
    },
    {
     "cell_type": "code",
     "collapsed": false,
     "input": [
      "forclosure_count_by_ca_name['open_fc'][:10]"
     ],
     "language": "python",
     "outputs": []
    },
    {
     "cell_type": "code",
     "collapsed": false,
     "input": [
      "fc=forclosure_count_by_ca_name.groupby(['CA_name','YYYYQ_DOC']).count()['YYYYQ_DOC']"
     ],
     "language": "python",
     "outputs": [],
     "prompt_number": 7
    },
    {
     "cell_type": "code",
     "collapsed": false,
     "input": [
      "fc "
     ],
     "language": "python",
     "outputs": []
    },
    {
     "cell_type": "code",
     "collapsed": false,
     "input": [
      "!ls"
     ],
     "language": "python",
     "outputs": [
      {
       "output_type": "stream",
       "stream": "stdout",
       "text": [
        "0.0.0.0\r\n",
        "3neighbComp.R\r\n",
        "3neighbComp.R~\r\n",
        "add_corr.ipynb\r\n",
        "address.csv\r\n",
        "address.csv~\r\n",
        "ampl.ipynb\r\n",
        "censustract_summary.py\r\n",
        "createQstring.R\r\n",
        "createQstring.R~\r\n",
        "forclosures.ipynb\r\n",
        "foreclosure_graphs\r\n",
        "foreclosures.ipynb\r\n",
        "gen_all_3_neighb_foreclosure_graphs.R\r\n",
        "gen_all_3_neighb_foreclosure_graphs.R~\r\n",
        "group_stat.ipynb\r\n",
        "housing_stock_by_ward.ipynb\r\n",
        "housingtypes.py\r\n",
        "letter_properties.ipynb\r\n",
        "market_summary.py\r\n",
        "neighb4comp.R\r\n",
        "neighb4comp.R~\r\n",
        "#prepForc.R#\r\n",
        "prepForc.R\r\n",
        "prepForc.R~\r\n",
        "#scratch2.py#\r\n",
        "scratch2.py\r\n",
        "scratch.py\r\n",
        "scratch.py~\r\n",
        "single_family_defaults_by_ca.csv\r\n",
        "single_family_defaults_by_ca_over_time.csv\r\n",
        "testfc.csv\r\n",
        "testfc.csv~\r\n",
        "third_ass_clean.ipynb\r\n",
        "Untitled0.ipynb\r\n"
       ]
      }
     ],
     "prompt_number": 8
    },
    {
     "cell_type": "code",
     "collapsed": false,
     "input": [
      "fc.to_csv(\"/home/emisshula/dssg-landbank-project/analysis/all_prop_defaults_by_ca_over_time.csv\")"
     ],
     "language": "python",
     "outputs": [],
     "prompt_number": 9
    },
    {
     "cell_type": "code",
     "collapsed": false,
     "input": [
      "fc.sum()"
     ],
     "language": "python",
     "outputs": [
      {
       "output_type": "pyout",
       "prompt_number": 11,
       "text": [
        "291069"
       ]
      }
     ],
     "prompt_number": 11
    },
    {
     "cell_type": "code",
     "collapsed": false,
     "input": [
      "!head --lines=10 all_prop_defaults_by_ca_over_time.csv"
     ],
     "language": "python",
     "outputs": [
      {
       "output_type": "stream",
       "stream": "stdout",
       "text": [
        "Albany Park           ,20051,3\r\n",
        "Albany Park           ,20052,6\r\n",
        "Albany Park           ,20053,8\r\n",
        "Albany Park           ,20054,14\r\n",
        "Albany Park           ,20061,10\r\n",
        "Albany Park           ,20062,13\r\n",
        "Albany Park           ,20063,15\r\n",
        "Albany Park           ,20064,17\r\n",
        "Albany Park           ,20071,28\r\n",
        "Albany Park           ,20072,22\r\n"
       ]
      }
     ],
     "prompt_number": 10
    },
    {
     "cell_type": "code",
     "collapsed": false,
     "input": [
      "pd.set_option('display.multi_sparse',False)"
     ],
     "language": "python",
     "outputs": []
    },
    {
     "cell_type": "code",
     "collapsed": false,
     "input": [
      "fc[:4]"
     ],
     "language": "python",
     "outputs": []
    },
    {
     "cell_type": "code",
     "collapsed": false,
     "input": [
      "pd.set_option('display.multi_sparse',True)"
     ],
     "language": "python",
     "outputs": []
    },
    {
     "cell_type": "code",
     "collapsed": false,
     "input": [
      "fc[:4]"
     ],
     "language": "python",
     "outputs": []
    },
    {
     "cell_type": "code",
     "collapsed": false,
     "input": [],
     "language": "python",
     "outputs": []
    }
   ]
  }
 ]
}