{
 "metadata": {
  "name": "foreclosures"
 },
 "nbformat": 3,
 "nbformat_minor": 0,
 "worksheets": [
  {
   "cells": [
    {
     "cell_type": "code",
     "collapsed": false,
     "input": [
      "import pandas as pd\n",
      "import numpy as np\n",
      "df=pd.read_table(\"/home/evan/Documents/chicago/ihs/repdata_forc_2012q4_Fellows.tsv\",sep=\"\\t\")\n",
      "print df.columns"
     ],
     "language": "python",
     "outputs": [
      {
       "output_type": "stream",
       "stream": "stdout",
       "text": [
        "Index([pin1, filing_date, case_num1, case_num2, case_num3, Defendant_First_Name, Defendant_Last_Name, Plantiff, YYYYQ_DOC, YEARD, APT, DIR, HOUSENO, STREET, SUFFIX, ADDR_FINAL, CITY_FINAL, LAT_Y, LNG_X, Tract_Fix, No_Tract_Info, CA_num, CA_name, Place00, GISDate, PTYPE1_CAT, RESIDENTIAL_PROPERTY, ADJ_YYYYQ, ADJ_YYYYD], dtype=object)\n"
       ]
      }
     ],
     "prompt_number": 1
    },
    {
     "cell_type": "code",
     "collapsed": false,
     "input": [
      "df['Place00'][:10]"
     ],
     "language": "python",
     "outputs": []
    },
    {
     "cell_type": "code",
     "collapsed": false,
     "input": [
      "df['PTYPE1_CAT'].unique()"
     ],
     "language": "python",
     "outputs": []
    },
    {
     "cell_type": "code",
     "collapsed": false,
     "input": [
      "df['Plantiff']=df['Plantiff'].map(lambda x: np.nan if isinstance(x, basestring) and (x.isspace() or (x == 'LETTER PROPERTY')) else x) "
     ],
     "language": "python",
     "outputs": [],
     "prompt_number": 2
    },
    {
     "cell_type": "code",
     "collapsed": false,
     "input": [
      "df['Plantiff'][:10]"
     ],
     "language": "python",
     "outputs": []
    },
    {
     "cell_type": "code",
     "collapsed": false,
     "input": [
      "# Index([pin1, filing_date, case_num1, case_num2, case_num3, Defendant_First_Name, Defendant_Last_Name, Plantiff, YYYYQ_DOC, YEARD, APT, DIR, HOUSENO, STREET, SUFFIX, ADDR_FINAL, CITY_FINAL, LAT_Y, LNG_X, Tract_Fix, No_Tract_Info, CA_num, CA_name, Place00, GISDate, PTYPE1_CAT, RESIDENTIAL_PROPERTY, ADJ_YYYYQ, ADJ_YYYYD], dtype=object)\n",
      "YYYYQ_DOC=df['YYYYQ_DOC']\n",
      "PTYPE1_CAT=df['PTYPE1_CAT']\n",
      "CA_num=df['CA_num']\n",
      "CA_name=df['CA_name']\n",
      "RESIDENTIAL_PROPERTY=df['RESIDENTIAL_PROPERTY']"
     ],
     "language": "python",
     "outputs": []
    },
    {
     "cell_type": "code",
     "collapsed": false,
     "input": [
      "forclosure_count_by_ca_name=df[['YYYYQ_DOC','PTYPE1_CAT','CA_num','CA_name','RESIDENTIAL_PROPERTY']]\n"
     ],
     "language": "python",
     "outputs": [],
     "prompt_number": 3
    },
    {
     "cell_type": "code",
     "collapsed": false,
     "input": [
      "forclosure_count_by_ca_name['yyyyq_doc']=forclosure_count_by_ca_name['YYYYQ_DOC'].map(int64)"
     ],
     "language": "python",
     "outputs": [],
     "prompt_number": 4
    },
    {
     "cell_type": "code",
     "collapsed": false,
     "input": [
      "forclosure_count_by_ca_name=forclosure_count_by_ca_name[forclosure_count_by_ca_name['yyyyq_doc'].notnull()]"
     ],
     "language": "python",
     "outputs": []
    },
    {
     "cell_type": "code",
     "collapsed": false,
     "input": [
      "forclosure_count_by_ca_name"
     ],
     "language": "python",
     "outputs": []
    },
    {
     "cell_type": "code",
     "collapsed": false,
     "input": [
      "fc=forclosure_count_by_ca_name.groupby('CA_name').count()['YYYYQ_DOC']\n"
     ],
     "language": "python",
     "outputs": [],
     "prompt_number": 5
    },
    {
     "cell_type": "code",
     "collapsed": false,
     "input": [
      "fc[:10]"
     ],
     "language": "python",
     "outputs": [
      {
       "output_type": "pyout",
       "prompt_number": 6,
       "text": [
        "CA_name\n",
        "Albany Park               1719\n",
        "Archer Heights             624\n",
        "Armour Square              109\n",
        "Ashburn                   3714\n",
        "Auburn Gresham            3873\n",
        "Austin                    6804\n",
        "Avalon Park               1045\n",
        "Avondale                  1718\n",
        "Belmont Cragin            4615\n",
        "Beverly                    898\n",
        "Name: YYYYQ_DOC, dtype: int64"
       ]
      }
     ],
     "prompt_number": 6
    },
    {
     "cell_type": "code",
     "collapsed": false,
     "input": [
      "fc.sum()"
     ],
     "language": "python",
     "outputs": [
      {
       "output_type": "pyout",
       "prompt_number": 7,
       "text": [
        "291069"
       ]
      }
     ],
     "prompt_number": 7
    },
    {
     "cell_type": "code",
     "collapsed": false,
     "input": [
      "fcs=forclosure_count_by_ca_name['YYYYQ_DOC'].unique()"
     ],
     "language": "python",
     "outputs": []
    },
    {
     "cell_type": "code",
     "collapsed": false,
     "input": [
      "np.sort(fcs)"
     ],
     "language": "python",
     "outputs": []
    },
    {
     "cell_type": "code",
     "collapsed": false,
     "input": [
      "a"
     ],
     "language": "python",
     "outputs": []
    },
    {
     "cell_type": "code",
     "collapsed": false,
     "input": [
      "forclosure_count_by_ca_name['open_fc'][:10]"
     ],
     "language": "python",
     "outputs": []
    },
    {
     "cell_type": "code",
     "collapsed": false,
     "input": [
      "forclosure_count_by_ca_name['open_fc'][:10]"
     ],
     "language": "python",
     "outputs": []
    },
    {
     "cell_type": "code",
     "collapsed": false,
     "input": [
      "fc=forclosure_count_by_ca_name.groupby(['CA_name','YYYYQ_DOC']).count()['YYYYQ_DOC']"
     ],
     "language": "python",
     "outputs": [],
     "prompt_number": 8
    },
    {
     "cell_type": "code",
     "collapsed": false,
     "input": [
      "fc "
     ],
     "language": "python",
     "outputs": [
      {
       "output_type": "pyout",
       "prompt_number": 9,
       "text": [
        "CA_name                 YYYYQ_DOC\n",
        "Albany Park             20051         3\n",
        "                        20052         6\n",
        "                        20053         8\n",
        "                        20054        14\n",
        "                        20061        10\n",
        "                        20062        13\n",
        "                        20063        15\n",
        "                        20064        17\n",
        "                        20071        28\n",
        "                        20072        22\n",
        "                        20073        59\n",
        "                        20074        49\n",
        "                        20081        51\n",
        "                        20082        63\n",
        "                        20083        42\n",
        "...\n",
        "Woodlawn                20092        39\n",
        "                        20093        69\n",
        "                        20094        94\n",
        "                        20101        67\n",
        "                        20102        86\n",
        "                        20103        64\n",
        "                        20104        68\n",
        "                        20111        50\n",
        "                        20112        57\n",
        "                        20113        40\n",
        "                        20114        55\n",
        "                        20121        51\n",
        "                        20122        53\n",
        "                        20123        52\n",
        "                        20124        38\n",
        "Name: YYYYQ_DOC, Length: 2617, dtype: int64"
       ]
      }
     ],
     "prompt_number": 9
    },
    {
     "cell_type": "code",
     "collapsed": false,
     "input": [
      "fc.to_csv('testfc.csv')"
     ],
     "language": "python",
     "outputs": []
    },
    {
     "cell_type": "code",
     "collapsed": false,
     "input": [
      "pd.set_option('display.multi_sparse',False)"
     ],
     "language": "python",
     "outputs": []
    },
    {
     "cell_type": "code",
     "collapsed": false,
     "input": [
      "fc[:4]"
     ],
     "language": "python",
     "outputs": [
      {
       "output_type": "pyout",
       "prompt_number": 33,
       "text": [
        "CA_name                 YYYYQ_DOC\n",
        "Albany Park             20051         3\n",
        "Albany Park             20052         6\n",
        "Albany Park             20053         8\n",
        "Albany Park             20054        14\n",
        "Name: YYYYQ_DOC, dtype: int64"
       ]
      }
     ],
     "prompt_number": 33
    },
    {
     "cell_type": "code",
     "collapsed": false,
     "input": [
      "pd.set_option('display.multi_sparse',True)"
     ],
     "language": "python",
     "outputs": [],
     "prompt_number": 34
    },
    {
     "cell_type": "code",
     "collapsed": false,
     "input": [
      "fc[:4]"
     ],
     "language": "python",
     "outputs": [
      {
       "output_type": "pyout",
       "prompt_number": 35,
       "text": [
        "CA_name                 YYYYQ_DOC\n",
        "Albany Park             20051         3\n",
        "                        20052         6\n",
        "                        20053         8\n",
        "                        20054        14\n",
        "Name: YYYYQ_DOC, dtype: int64"
       ]
      }
     ],
     "prompt_number": 35
    },
    {
     "cell_type": "code",
     "collapsed": false,
     "input": [],
     "language": "python",
     "outputs": []
    }
   ]
  }
 ]
}