{
 "metadata": {
  "name": "ampl"
 },
 "nbformat": 3,
 "nbformat_minor": 0,
 "worksheets": [
  {
   "cells": [
    {
     "cell_type": "code",
     "collapsed": false,
     "input": [
      "%load_ext ampl"
     ],
     "language": "python",
     "outputs": [],
     "prompt_number": 1
    },
    {
     "cell_type": "code",
     "collapsed": false,
     "input": [
      "%%ampl\n",
      "param NumColors;\n",
      "\n",
      "set Countries;\n",
      "set Neighbors within {Countries, Countries};\n",
      "var color{Countries} integer >= 1 <= NumColors;\n",
      "\n",
      "s.t. different_colors{(c1, c2) in Neighbors};\n",
      "  (color[c1] != color[c2])\n",
      "\n",
      "data;\n",
      "\n",
      "param NumColors := 4;\n",
      "\n",
      "set Countries := Belgium Denmark France Germany Luxemborg Netherlands;\n",
      "\n",
      "set Neighbors :=\n",
      "  Belgium France\n",
      "  Belgium Germany\n",
      "  Belgium Netherlands\n",
      "  Belgium Luxemborg\n",
      "  Denmark Germany\n",
      "  France Germany\n",
      "  France Luxemborg\n",
      "  Germany Luxemborg\n",
      "  Germany Netherlands;\n",
      "\n",
      "option solver gecode;\n",
      "solve;"
     ],
     "language": "python",
     "outputs": [
      {
       "output_type": "stream",
       "stream": "stdout",
       "text": [
        "Couldn't find program: 'ampl'\n"
       ]
      }
     ],
     "prompt_number": 2
    },
    {
     "cell_type": "code",
     "collapsed": false,
     "input": [],
     "language": "python",
     "outputs": []
    }
   ]
  }
 ]
}