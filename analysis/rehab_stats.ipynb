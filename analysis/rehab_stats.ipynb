{
 "metadata": {
  "name": "rehab_stats"
 },
 "nbformat": 3,
 "nbformat_minor": 0,
 "worksheets": [
  {
   "cells": [
    {
     "cell_type": "code",
     "collapsed": false,
     "input": [
      "import pandas as pd\n",
      "import numpy as np"
     ],
     "language": "python",
     "outputs": [
      {
       "output_type": "stream",
       "stream": "stderr",
       "text": [
        "/home/emisshula/.virtualenvs/dssg/lib/python2.7/site-packages/pytz/__init__.py:35: UserWarning: Module argparse was already imported from /home/emisshula/.pythonbrew/pythons/Python-2.7.3/lib/python2.7/argparse.pyc, but /home/emisshula/.virtualenvs/dssg/lib/python2.7/site-packages is being added to sys.path\n",
        "  from pkg_resources import resource_stream\n"
       ]
      }
     ],
     "prompt_number": 1
    },
    {
     "cell_type": "code",
     "collapsed": false,
     "input": [
      "df=pd.read_table(\"/mnt/ebs/data/cook_2011_semi.dat\",sep=\"\\t\")"
     ],
     "language": "python",
     "outputs": [],
     "prompt_number": 2
    },
    {
     "cell_type": "code",
     "collapsed": false,
     "input": [
      "df.columns"
     ],
     "language": "python",
     "outputs": []
    },
    {
     "cell_type": "code",
     "collapsed": false,
     "input": [
      "df['PTYPE2011'].unique()"
     ],
     "language": "python",
     "outputs": []
    },
    {
     "cell_type": "code",
     "collapsed": false,
     "input": [
      "single_family_data=df[['CURRENT_LAND_ASSMT_11','CURRENT_BUILDING_ASSMT_11','sqft_bldg_11','sqft_land_11','PTYPE2011','CA_name']]"
     ],
     "language": "python",
     "outputs": [],
     "prompt_number": 4
    },
    {
     "cell_type": "code",
     "collapsed": false,
     "input": [
      "single_family_data.count(axis=0)"
     ],
     "language": "python",
     "outputs": [
      {
       "output_type": "pyout",
       "prompt_number": 5,
       "text": [
        "CURRENT_LAND_ASSMT_11        1977376\n",
        "CURRENT_BUILDING_ASSMT_11    1977376\n",
        "sqft_bldg_11                 1850053\n",
        "sqft_land_11                 1850053\n",
        "PTYPE2011                    1977376\n",
        "CA_name                      1977376\n",
        "dtype: int64"
       ]
      }
     ],
     "prompt_number": 5
    },
    {
     "cell_type": "code",
     "collapsed": false,
     "input": [
      "single_family_data['PTYPE2011']=single_family_data['PTYPE2011'].map(lambda x: np.nan if isinstance(x,basestring) and (x.isspace() or (x == 'LETTER PROPERTY')) else x)\n",
      "single_family_data['CURRENT_LAND_ASSMT_11']=single_family_data['CURRENT_LAND_ASSMT_11'].map(lambda x: np.nan if isinstance(x,basestring) and (x.isspace() or (x == 'LETTER PROPERTY')) else x)\n",
      "single_family_data['sqft_land_11']=single_family_data['sqft_land_11'].map(lambda x: np.nan if isinstance(x,basestring) and (x.isspace() or (x == 'LETTER PROPERTY')) else x)\n"
     ],
     "language": "python",
     "outputs": [],
     "prompt_number": 6
    },
    {
     "cell_type": "code",
     "collapsed": false,
     "input": [
      "single_family_data['PTYPE2011'].unique()"
     ],
     "language": "python",
     "outputs": []
    },
    {
     "cell_type": "code",
     "collapsed": false,
     "input": [
      "single_family_data=single_family_data[single_family_data['PTYPE2011'].notnull()]"
     ],
     "language": "python",
     "outputs": [],
     "prompt_number": 7
    },
    {
     "cell_type": "code",
     "collapsed": false,
     "input": [
      "single_family_data['PTYPE2011']=single_family_data['PTYPE2011'].map(str.strip)\n",
      "single_family_data.count(axis=0)"
     ],
     "language": "python",
     "outputs": [
      {
       "output_type": "pyout",
       "prompt_number": 8,
       "text": [
        "CURRENT_LAND_ASSMT_11        1849998\n",
        "CURRENT_BUILDING_ASSMT_11    1950939\n",
        "sqft_bldg_11                 1850053\n",
        "sqft_land_11                 1850053\n",
        "PTYPE2011                    1950939\n",
        "CA_name                      1950939\n",
        "dtype: int64"
       ]
      }
     ],
     "prompt_number": 8
    },
    {
     "cell_type": "code",
     "collapsed": false,
     "input": [
      "single_family_data['PTYPE2011'].unique()"
     ],
     "language": "python",
     "outputs": [
      {
       "output_type": "pyout",
       "prompt_number": 9,
       "text": [
        "array(['COMM/IND', '2-6 UNIT', 'SINGLE FAMILY', 'VACANT LAND', 'CONDO',\n",
        "       'TOWN HOUSE', '7+ UNIT', 'NON PROFIT'], dtype=object)"
       ]
      }
     ],
     "prompt_number": 9
    },
    {
     "cell_type": "code",
     "collapsed": false,
     "input": [
      "single_family_data.columns"
     ],
     "language": "python",
     "outputs": []
    },
    {
     "cell_type": "code",
     "collapsed": false,
     "input": [
      "def compute_land_psf(x):\n",
      "    cond1=(x[0]==np.nan)\n",
      "    cond2=(x[1]==np.nan)\n",
      "    cond3=(x[0].isspace())\n",
      "    cond4=(x[1].isspace())\n",
      "    if cond1 or \\\n",
      "       cond2 or \\\n",
      "       cond3 or \\\n",
      "        cond4:\n",
      "       land_psf=np.nan\n",
      "    else:\n",
      "       land_psf=float(x[0])/float(x[1])\n",
      "    return(land_psf)\n",
      "    "
     ],
     "language": "python",
     "outputs": []
    },
    {
     "cell_type": "code",
     "collapsed": false,
     "input": [
      "land_float=single_family_data['CURRENT_LAND_ASSMT_11'].apply(float)"
     ],
     "language": "python",
     "outputs": [],
     "prompt_number": 10
    },
    {
     "cell_type": "code",
     "collapsed": false,
     "input": [
      "single_family_data['CURRENT_LAND_ASSMT_11']=single_family_data['CURRENT_LAND_ASSMT_11'].map(lambda x: np.nan if isinstance(x,basestring) and (x.isspace() or (x == 'LETTER PROPERTY')) else x)\n",
      "single_family_data['sqft_land_11']=single_family_data['sqft_land_11'].map(lambda x: np.nan if isinstance(x,basestring) and (x.isspace() or (x == 'LETTER PROPERTY')) else x)\n",
      "single_family_data['CURRENT_BUILDING_ASSMT_11']=single_family_data['CURRENT_BUILDING_ASSMT_11'].map(lambda x: np.nan if isinstance(x,basestring) and (x.isspace() or (x == 'LETTER PROPERTY')) else x)\n",
      "single_family_data['sqft_bldg_11']=single_family_data['sqft_bldg_11'].map(lambda x: np.nan if isinstance(x,basestring) and (x.isspace() or (x == 'LETTER PROPERTY')) else x)\n"
     ],
     "language": "python",
     "outputs": [],
     "prompt_number": 11
    },
    {
     "cell_type": "code",
     "collapsed": false,
     "input": [
      "single_family_data['CURRENT_LAND_ASSMT_11'].map(float)"
     ],
     "language": "python",
     "outputs": [
      {
       "output_type": "pyout",
       "prompt_number": 12,
       "text": [
        "1     38415\n",
        "2     53781\n",
        "3      5251\n",
        "4      3103\n",
        "5      3103\n",
        "6         0\n",
        "7      6446\n",
        "8         0\n",
        "9         0\n",
        "10    25656\n",
        "11     4287\n",
        "12     5705\n",
        "13     3182\n",
        "14     3182\n",
        "15     6207\n",
        "...\n",
        "1977361        0\n",
        "1977362     3406\n",
        "1977363     3467\n",
        "1977364     3672\n",
        "1977365     9027\n",
        "1977366     8520\n",
        "1977367     4018\n",
        "1977368     3998\n",
        "1977369    10606\n",
        "1977370      744\n",
        "1977371     5693\n",
        "1977372     2846\n",
        "1977373     4262\n",
        "1977374        0\n",
        "1977375        0\n",
        "Name: CURRENT_LAND_ASSMT_11, Length: 1950939, dtype: float64"
       ]
      }
     ],
     "prompt_number": 12
    },
    {
     "cell_type": "code",
     "collapsed": false,
     "input": [
      "single_family_data['sqft_land_11'].map(float)"
     ],
     "language": "python",
     "outputs": [
      {
       "output_type": "pyout",
       "prompt_number": 13,
       "text": [
        "1     12293\n",
        "2     17210\n",
        "3     11055\n",
        "4      6534\n",
        "5      6534\n",
        "6         0\n",
        "7     13571\n",
        "8         0\n",
        "9         0\n",
        "10     8210\n",
        "11     9027\n",
        "12    12012\n",
        "13     6699\n",
        "14     6699\n",
        "15    13068\n",
        "...\n",
        "1977361         0\n",
        "1977362     34063\n",
        "1977363     69347\n",
        "1977364     73442\n",
        "1977365    180556\n",
        "1977366    170406\n",
        "1977367     80368\n",
        "1977368     79976\n",
        "1977369    212137\n",
        "1977370     29795\n",
        "1977371     56932\n",
        "1977372     56932\n",
        "1977373     85246\n",
        "1977374         0\n",
        "1977375         0\n",
        "Name: sqft_land_11, Length: 1950939, dtype: float64"
       ]
      }
     ],
     "prompt_number": 13
    },
    {
     "cell_type": "code",
     "collapsed": false,
     "input": [
      "single_family_data['land_assmt_11_psf']=(single_family_data['CURRENT_LAND_ASSMT_11'].map(float))/(single_family_data['sqft_land_11'].map(float))"
     ],
     "language": "python",
     "outputs": [],
     "prompt_number": 14
    },
    {
     "cell_type": "code",
     "collapsed": false,
     "input": [
      "single_family_data['bldg_assmt_11_psf']=(single_family_data['CURRENT_BUILDING_ASSMT_11'].map(float))/(single_family_data['sqft_bldg_11'].map(float))"
     ],
     "language": "python",
     "outputs": [],
     "prompt_number": 15
    },
    {
     "cell_type": "code",
     "collapsed": false,
     "input": [
      "single_family_data.columns"
     ],
     "language": "python",
     "outputs": [
      {
       "output_type": "pyout",
       "prompt_number": 16,
       "text": [
        "Index([CURRENT_LAND_ASSMT_11, CURRENT_BUILDING_ASSMT_11, sqft_bldg_11, sqft_land_11, PTYPE2011, CA_name, land_assmt_11_psf, bldg_assmt_11_psf], dtype=object)"
       ]
      }
     ],
     "prompt_number": 16
    },
    {
     "cell_type": "code",
     "collapsed": false,
     "input": [
      "single_family_data['land_assmt_11_psf'][:5]"
     ],
     "language": "python",
     "outputs": [
      {
       "output_type": "pyout",
       "prompt_number": 17,
       "text": [
        "1    3.124949\n",
        "2    3.124985\n",
        "3    0.474989\n",
        "4    0.474901\n",
        "5    0.474901\n",
        "Name: land_assmt_11_psf, dtype: float64"
       ]
      }
     ],
     "prompt_number": 17
    },
    {
     "cell_type": "code",
     "collapsed": false,
     "input": [
      "sf_data_median_land_price_psf_CA=single_family_data.groupby(['CA_name','PTYPE2011']).median()['land_assmt_11_psf']\n",
      "sf_data_median_bldg_price_psf_CA=single_family_data.groupby(['CA_name','PTYPE2011']).median()['bldg_assmt_11_psf']\n",
      "\n",
      "sf_data_median_land_size_CA=single_family_data.groupby(['CA_name','PTYPE2011']).median()['sqft_land_11']\n",
      "sf_data_median_bldg_size_CA=single_family_data.groupby(['CA_name','PTYPE2011']).median()['sqft_bldg_11']"
     ],
     "language": "python",
     "outputs": [],
     "prompt_number": 18
    },
    {
     "cell_type": "code",
     "collapsed": false,
     "input": [
      "sf_data_median_land_price_psf_CA.to_csv(\"/mnt/ebs/data/CA_ptype_median_land_psf.csv\",sep=\",\",header=True)\n",
      "sf_data_median_bldg_price_psf_CA.to_csv(\"/mnt/ebs/data/CA_ptype_median_bldg_psf.csv\",sep=\",\",header=True)\n",
      "sf_data_median_land_size_CA.to_csv(\"/mnt/ebs/data/CA_ptype_median_land_size.csv\",sep=\",\",header=True)\n",
      "sf_data_median_bldg_size_CA.to_csv(\"/mnt/ebs/data/CA_ptype_median_bldg_size.csv\",sep=\",\",header=True)"
     ],
     "language": "python",
     "outputs": []
    },
    {
     "cell_type": "code",
     "collapsed": false,
     "input": [
      "data_median_land_price_psf_CA['CA_name']=data_median_land_price_psf_CA['CA_name'].map(str.strip)"
     ],
     "language": "python",
     "outputs": [],
     "prompt_number": 24
    },
    {
     "cell_type": "code",
     "collapsed": false,
     "input": [
      "data_median_land_price_psf_CA['CA_name'].unique()"
     ],
     "language": "python",
     "outputs": [
      {
       "output_type": "pyout",
       "prompt_number": 25,
       "text": [
        "array(['', 'Albany Park', 'Archer Heights', 'Armour Square', 'Ashburn',\n",
        "       'Auburn Gresham', 'Austin', 'Avalon Park', 'Avondale',\n",
        "       'Belmont Cragin', 'Beverly', 'Bridgeport', 'Brighton Park',\n",
        "       'Burnside', 'Calumet Heights', 'Chatham', 'Chicago Lawn',\n",
        "       'Clearing', 'Douglas', 'Dunning', 'East Garfield', 'East Side',\n",
        "       'Edgewater', 'Edison Park', 'Englewood', 'Forest Glen',\n",
        "       'Fuller Park', 'Gage Park', 'Garfield Ridge', 'Grand Boulevard',\n",
        "       'Greater Grand Crossing', 'Hegewisch', 'Hermosa', 'Humboldt Park',\n",
        "       'Hyde Park', 'Irving Park', 'Jefferson Park', 'Kenwood', 'Lakeview',\n",
        "       'Lincoln Park', 'Lincoln Square', 'Logan Square', 'Loop',\n",
        "       'Lower West Side', 'McKinley Park', 'Montclare', 'Morgan Park',\n",
        "       'Mount Greenwood', 'Near North Side', 'Near South Side',\n",
        "       'Near West Side', 'New City', 'North Center', 'North Cook',\n",
        "       'North Lawndale', 'North Park', 'Northwest Cook', 'Norwood Park',\n",
        "       \"O'Hare\", 'Oakland', 'Portage Park', 'Pullman', 'Riverdale',\n",
        "       'Rogers Park', 'Roseland', 'South Chicago', 'South Cook',\n",
        "       'South Deering', 'South Lawndale', 'South Shore', 'Southwest Cook',\n",
        "       'Uptown', 'Washingon Park', 'Washington Heights', 'West Cook',\n",
        "       'West Elsdon', 'West Englewood', 'West Garfield', 'West Lawn',\n",
        "       'West Pullman', 'West Ridge', 'West Town', 'Woodlawn'], dtype=object)"
       ]
      }
     ],
     "prompt_number": 25
    },
    {
     "cell_type": "code",
     "collapsed": false,
     "input": [
      "ca_mask=(data_median_land_price_psf_CA['CA_name']!='')"
     ],
     "language": "python",
     "outputs": [],
     "prompt_number": 26
    },
    {
     "cell_type": "code",
     "collapsed": false,
     "input": [
      "data_median_land_price_psf_CA=single_family_data.sort(['CA_name','PTYPE2011'],ascending=[1,1])\n"
     ],
     "language": "python",
     "outputs": [],
     "prompt_number": 21
    },
    {
     "cell_type": "code",
     "collapsed": false,
     "input": [
      "ca_mask.sum()"
     ],
     "language": "python",
     "outputs": [
      {
       "output_type": "pyout",
       "prompt_number": 29,
       "text": [
        "1899707"
       ]
      }
     ],
     "prompt_number": 29
    },
    {
     "cell_type": "code",
     "collapsed": false,
     "input": [
      "data_median_land_price_psf_CA.count(axis=0)"
     ],
     "language": "python",
     "outputs": [
      {
       "output_type": "pyout",
       "prompt_number": 27,
       "text": [
        "CURRENT_LAND_ASSMT_11        1849998\n",
        "CURRENT_BUILDING_ASSMT_11    1849998\n",
        "sqft_bldg_11                 1850053\n",
        "sqft_land_11                 1850053\n",
        "PTYPE2011                    1950939\n",
        "CA_name                      1950939\n",
        "land_assmt_11_psf            1754469\n",
        "bldg_assmt_11_psf            1667223\n",
        "dtype: int64"
       ]
      }
     ],
     "prompt_number": 27
    },
    {
     "cell_type": "code",
     "collapsed": false,
     "input": [
      "data_median_land_price_psf_CA[ca_mask].count(axis=0)"
     ],
     "language": "python",
     "outputs": [
      {
       "output_type": "pyout",
       "prompt_number": 28,
       "text": [
        "CURRENT_LAND_ASSMT_11        1844519\n",
        "CURRENT_BUILDING_ASSMT_11    1844519\n",
        "sqft_bldg_11                 1844574\n",
        "sqft_land_11                 1844574\n",
        "PTYPE2011                    1899707\n",
        "CA_name                      1899707\n",
        "land_assmt_11_psf            1749623\n",
        "bldg_assmt_11_psf            1663297\n",
        "dtype: int64"
       ]
      }
     ],
     "prompt_number": 28
    },
    {
     "cell_type": "code",
     "collapsed": false,
     "input": [
      "data_median_land_price_psf_CA.count(axis=0)"
     ],
     "language": "python",
     "outputs": [
      {
       "output_type": "pyout",
       "prompt_number": 33,
       "text": [
        "CURRENT_LAND_ASSMT_11        1849998\n",
        "CURRENT_BUILDING_ASSMT_11    1849998\n",
        "sqft_bldg_11                 1850053\n",
        "sqft_land_11                 1850053\n",
        "PTYPE2011                    1950939\n",
        "CA_name                      1950939\n",
        "land_assmt_11_psf            1754469\n",
        "bldg_assmt_11_psf            1667223\n",
        "dtype: int64"
       ]
      }
     ],
     "prompt_number": 33
    },
    {
     "cell_type": "code",
     "collapsed": false,
     "input": [
      "data_median_land_price_psf_CA[:5]"
     ],
     "language": "python",
     "outputs": [
      {
       "html": [
        "<pre>\n",
        "&ltclass 'pandas.core.frame.DataFrame'&gt\n",
        "Int64Index: 5 entries, 101040 to 332771\n",
        "Data columns (total 8 columns):\n",
        "CURRENT_LAND_ASSMT_11        1  non-null values\n",
        "CURRENT_BUILDING_ASSMT_11    1  non-null values\n",
        "sqft_bldg_11                 1  non-null values\n",
        "sqft_land_11                 1  non-null values\n",
        "PTYPE2011                    5  non-null values\n",
        "CA_name                      5  non-null values\n",
        "land_assmt_11_psf            0  non-null values\n",
        "bldg_assmt_11_psf            1  non-null values\n",
        "dtypes: float64(4), object(4)\n",
        "</pre>"
       ],
       "output_type": "pyout",
       "prompt_number": 34,
       "text": [
        "       CURRENT_LAND_ASSMT_11 CURRENT_BUILDING_ASSMT_11  sqft_bldg_11  \\\n",
        "101040       0                         9154                     4065   \n",
        "101041                   NaN                       NaN           NaN   \n",
        "332527                   NaN                       NaN           NaN   \n",
        "332770                   NaN                       NaN           NaN   \n",
        "332771                   NaN                       NaN           NaN   \n",
        "\n",
        "        sqft_land_11 PTYPE2011 CA_name  land_assmt_11_psf  bldg_assmt_11_psf  \n",
        "101040             0  2-6 UNIT                        NaN           2.251907  \n",
        "101041           NaN  2-6 UNIT                        NaN                NaN  \n",
        "332527           NaN  2-6 UNIT                        NaN                NaN  \n",
        "332770           NaN  2-6 UNIT                        NaN                NaN  \n",
        "332771           NaN  2-6 UNIT                        NaN                NaN  "
       ]
      }
     ],
     "prompt_number": 34
    },
    {
     "cell_type": "code",
     "collapsed": false,
     "input": [
      "data_median_land_price_psf_CA=data_median_land_price_psf_CA[data_median_land_price_psf_CA['CA_name']!='']"
     ],
     "language": "python",
     "outputs": [],
     "prompt_number": 35
    },
    {
     "cell_type": "code",
     "collapsed": false,
     "input": [
      "data_median_land_price_psf_CA.count(axis=0)"
     ],
     "language": "python",
     "outputs": [
      {
       "output_type": "pyout",
       "prompt_number": 36,
       "text": [
        "CURRENT_LAND_ASSMT_11        1844519\n",
        "CURRENT_BUILDING_ASSMT_11    1844519\n",
        "sqft_bldg_11                 1844574\n",
        "sqft_land_11                 1844574\n",
        "PTYPE2011                    1899707\n",
        "CA_name                      1899707\n",
        "land_assmt_11_psf            1749623\n",
        "bldg_assmt_11_psf            1663297\n",
        "dtype: int64"
       ]
      }
     ],
     "prompt_number": 36
    },
    {
     "cell_type": "code",
     "collapsed": false,
     "input": [
      "data_median_land_price_psf_CA[:5]"
     ],
     "language": "python",
     "outputs": [
      {
       "html": [
        "<pre>\n",
        "&ltclass 'pandas.core.frame.DataFrame'&gt\n",
        "Int64Index: 5 entries, 549655 to 549694\n",
        "Data columns (total 8 columns):\n",
        "CURRENT_LAND_ASSMT_11        5  non-null values\n",
        "CURRENT_BUILDING_ASSMT_11    5  non-null values\n",
        "sqft_bldg_11                 5  non-null values\n",
        "sqft_land_11                 5  non-null values\n",
        "PTYPE2011                    5  non-null values\n",
        "CA_name                      5  non-null values\n",
        "land_assmt_11_psf            5  non-null values\n",
        "bldg_assmt_11_psf            5  non-null values\n",
        "dtypes: float64(4), object(4)\n",
        "</pre>"
       ],
       "output_type": "pyout",
       "prompt_number": 37,
       "text": [
        "       CURRENT_LAND_ASSMT_11 CURRENT_BUILDING_ASSMT_11  sqft_bldg_11  \\\n",
        "549655       4717                      28952                    2061   \n",
        "549681       5530                      24449                    1734   \n",
        "549683       7500                      35738                    2862   \n",
        "549692       5530                      24111                    1519   \n",
        "549694       5530                      27532                    1831   \n",
        "\n",
        "        sqft_land_11 PTYPE2011      CA_name  land_assmt_11_psf  \\\n",
        "549655          3145  2-6 UNIT  Albany Park           1.499841   \n",
        "549681          3687  2-6 UNIT  Albany Park           1.499864   \n",
        "549683          5000  2-6 UNIT  Albany Park           1.500000   \n",
        "549692          3687  2-6 UNIT  Albany Park           1.499864   \n",
        "549694          3687  2-6 UNIT  Albany Park           1.499864   \n",
        "\n",
        "        bldg_assmt_11_psf  \n",
        "549655          14.047550  \n",
        "549681          14.099769  \n",
        "549683          12.487072  \n",
        "549692          15.872943  \n",
        "549694          15.036592  "
       ]
      }
     ],
     "prompt_number": 37
    },
    {
     "cell_type": "code",
     "collapsed": false,
     "input": [
      "data_median_land_price_psf_CA.to_csv(\"/mnt/ebs/data/data_median_land_price_psf_CA.csv\",sep=\",\",header=True)\n"
     ],
     "language": "python",
     "outputs": [],
     "prompt_number": 38
    },
    {
     "cell_type": "code",
     "collapsed": false,
     "input": [
      "price_and_size=pd.DataFrame(sf_data_median_land_price_psf_CA,\n",
      "#\t\t\t    sf_data_median_land_size_CA)\n",
      "\t\t\t    sf_data_median_bldg_price_psf_CA)\n",
      "#\t\t\t    sf_data_median_bldg_size_CA)"
     ],
     "language": "python",
     "outputs": []
    },
    {
     "cell_type": "code",
     "collapsed": false,
     "input": [
      "single_family_data['land_assmt_11_psf']=single_family_data"
     ],
     "language": "python",
     "outputs": []
    },
    {
     "cell_type": "code",
     "collapsed": false,
     "input": [
      "ward=df['Ward']\n",
      "tot_val=df['CURRENT_TOTAL_ASSMT_11']"
     ],
     "language": "python",
     "outputs": []
    },
    {
     "cell_type": "code",
     "collapsed": false,
     "input": [
      "ward_val=pd.concat([ward,tot_val],join='outer',axis=1)"
     ],
     "language": "python",
     "outputs": []
    },
    {
     "cell_type": "code",
     "collapsed": false,
     "input": [
      "chicago_val=ward_val[ward.notnull()]"
     ],
     "language": "python",
     "outputs": []
    },
    {
     "cell_type": "code",
     "collapsed": false,
     "input": [
      "chi_ward=chicago_val['Ward']"
     ],
     "language": "python",
     "outputs": []
    },
    {
     "cell_type": "code",
     "collapsed": false,
     "input": [
      "wards=chi_ward.unique()\n",
      "wards.sort()"
     ],
     "language": "python",
     "outputs": []
    },
    {
     "cell_type": "code",
     "collapsed": false,
     "input": [
      "print wards"
     ],
     "language": "python",
     "outputs": []
    },
    {
     "cell_type": "code",
     "collapsed": false,
     "input": [
      "chicago_val.columns\n"
     ],
     "language": "python",
     "outputs": []
    },
    {
     "cell_type": "code",
     "collapsed": false,
     "input": [
      "grouped_ward_val=chicago_val['CURRENT_TOTAL_ASSMT_11'].groupby(chicago_val['Ward'])"
     ],
     "language": "python",
     "outputs": []
    },
    {
     "cell_type": "code",
     "collapsed": false,
     "input": [
      "grouped_ward_val.count()"
     ],
     "language": "python",
     "outputs": []
    },
    {
     "cell_type": "code",
     "collapsed": false,
     "input": [
      "grouped_ward_val"
     ],
     "language": "python",
     "outputs": []
    },
    {
     "cell_type": "code",
     "collapsed": false,
     "input": [
      "chicago_val.groupby('Ward').sum()\n"
     ],
     "language": "python",
     "outputs": []
    },
    {
     "cell_type": "code",
     "collapsed": false,
     "input": [],
     "language": "python",
     "outputs": []
    }
   ]
  }
 ]
}