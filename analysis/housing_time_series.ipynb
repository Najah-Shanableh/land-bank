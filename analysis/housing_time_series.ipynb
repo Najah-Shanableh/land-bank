{
 "metadata": {
  "name": "housing_time_series"
 },
 "nbformat": 3,
 "nbformat_minor": 0,
 "worksheets": [
  {
   "cells": [
    {
     "cell_type": "code",
     "collapsed": false,
     "input": [
      "!ls "
     ],
     "language": "python",
     "outputs": []
    },
    {
     "cell_type": "code",
     "collapsed": false,
     "input": [
      "!ls /mnt/ebs/data/"
     ],
     "language": "python",
     "outputs": []
    },
    {
     "cell_type": "code",
     "collapsed": false,
     "input": [
      "import pandas as pd\n",
      "import numpy as np\n",
      "df=pd.read_table(\"/mnt/ebs/data/repdata_mort_2012q4_Fellows.tsv\",sep=\"\\t\")\n",
      "print df.count(axis=0)"
     ],
     "language": "python",
     "outputs": [
      {
       "output_type": "stream",
       "stream": "stdout",
       "text": [
        "pin1                    2275124\n",
        "Doc_Num                 2275124\n",
        "Mort_Amt                2275124\n",
        "Date_Doc                2275124\n",
        "Date_Rec                2275124\n",
        "Borrower1               2275124\n",
        "Borrower1_Type          2275124\n",
        "Lender1                 2275124\n",
        "Lender1_Type            2275124\n",
        "Lender2                 2275124\n",
        "Lender2_Type            2275124\n",
        "YYYYQ_DOC               2275124\n",
        "YEARD                   2275124\n",
        "APT                     2275124\n",
        "DIR                     2275124\n",
        "HOUSENO                 2275124\n",
        "STREET                  2275124\n",
        "SUFFIX                  2275124\n",
        "ADDR_FINAL              2275124\n",
        "CITY_FINAL              2275124\n",
        "LAT_Y                   2275124\n",
        "LNG_X                   2275124\n",
        "Tract_Fix               2275124\n",
        "No_Tract_Info           2275124\n",
        "CA_num                  2275124\n",
        "CA_name                 2275124\n",
        "Place00                 2275124\n",
        "GISDate                 2275124\n",
        "PTYPE1_CAT              2275124\n",
        "RESIDENTIAL_PROPERTY    2275124\n",
        "ADJ_YYYYQ               2275124\n",
        "ADJ_YYYYD               2275124\n",
        "dtype: int64\n"
       ]
      },
      {
       "output_type": "stream",
       "stream": "stderr",
       "text": [
        "/home/emisshula/.virtualenvs/dssg/lib/python2.7/site-packages/pytz/__init__.py:35: UserWarning: Module argparse was already imported from /home/emisshula/.pythonbrew/pythons/Python-2.7.3/lib/python2.7/argparse.pyc, but /home/emisshula/.virtualenvs/dssg/lib/python2.7/site-packages is being added to sys.path\n",
        "  from pkg_resources import resource_stream\n"
       ]
      }
     ],
     "prompt_number": 1
    },
    {
     "cell_type": "code",
     "collapsed": false,
     "input": [
      "df.columns"
     ],
     "language": "python",
     "outputs": []
    },
    {
     "cell_type": "code",
     "collapsed": false,
     "input": [],
     "language": "python",
     "outputs": []
    },
    {
     "cell_type": "code",
     "collapsed": false,
     "input": [
      "mort_amt=df['Mort_Amt']\n",
      "mort_amt.describe()"
     ],
     "language": "python",
     "outputs": []
    },
    {
     "cell_type": "code",
     "collapsed": false,
     "input": [],
     "language": "python",
     "outputs": []
    },
    {
     "cell_type": "code",
     "collapsed": false,
     "input": [
      "sf_mort=df[['Borrower1_Type', 'YYYYQ_DOC', 'LAT_Y', 'LNG_X', 'CA_num', 'CA_name', 'Place00', 'GISDate', 'PTYPE1_CAT', 'RESIDENTIAL_PROPERTY','Mort_Amt']]\n",
      "sf1_mort=df[['Borrower1_Type', 'YYYYQ_DOC', 'CA_name','PTYPE1_CAT','Mort_Amt']]"
     ],
     "language": "python",
     "outputs": [],
     "prompt_number": 2
    },
    {
     "cell_type": "code",
     "collapsed": false,
     "input": [
      "sf1_mort.count(axis=0)"
     ],
     "language": "python",
     "outputs": []
    },
    {
     "cell_type": "code",
     "collapsed": false,
     "input": [
      "sf1_mort[sf1_mort['PTYPE1_CAT']==1].count(axis=0)"
     ],
     "language": "python",
     "outputs": [
      {
       "output_type": "pyout",
       "prompt_number": 3,
       "text": [
        "Borrower1_Type    1276304\n",
        "YYYYQ_DOC         1276304\n",
        "CA_name           1276304\n",
        "PTYPE1_CAT        1276304\n",
        "Mort_Amt          1276304\n",
        "dtype: int64"
       ]
      }
     ],
     "prompt_number": 3
    },
    {
     "cell_type": "code",
     "collapsed": false,
     "input": [
      "sf1_mort=sf1_mort[sf1_mort['PTYPE1_CAT']==1]"
     ],
     "language": "python",
     "outputs": [],
     "prompt_number": 4
    },
    {
     "cell_type": "code",
     "collapsed": false,
     "input": [
      "sf1_mort_ca_by_quarter_count=sf1_mort.groupby(['CA_name','YYYYQ_DOC']).count()['YYYYQ_DOC']\n",
      "sf1_mort_ca_by_quarter_median=sf1_mort.groupby(['CA_name','YYYYQ_DOC']).median()['Mort_Amt']\n"
     ],
     "language": "python",
     "outputs": [],
     "prompt_number": 5
    },
    {
     "cell_type": "code",
     "collapsed": false,
     "input": [
      "sf1_mort_ca_by_quarter_median[:5]"
     ],
     "language": "python",
     "outputs": [
      {
       "output_type": "pyout",
       "prompt_number": 6,
       "text": [
        "CA_name                 YYYYQ_DOC\n",
        "Albany Park             20051        215500\n",
        "                        20052        221000\n",
        "                        20053        195500\n",
        "                        20054        200000\n",
        "                        20061        214000\n",
        "Name: Mort_Amt, dtype: float64"
       ]
      }
     ],
     "prompt_number": 6
    },
    {
     "cell_type": "code",
     "collapsed": false,
     "input": [
      "sf1_mort_ca_by_quarter_count.to_csv(\"/mnt/ebs/data/single_fam_mort_count_trans_by_qtr.csv\",sep=\",\",header=True)\n",
      "sf1_mort_ca_by_quarter_median.to_csv(\"/mnt/ebs/data/single_fam_mort_median_trans_by_qtr.csv\",sep=\",\",header=True)"
     ],
     "language": "python",
     "outputs": []
    },
    {
     "cell_type": "code",
     "collapsed": false,
     "input": [
      "!ls /mnt/ebs/data/single_fam_mort*"
     ],
     "language": "python",
     "outputs": []
    },
    {
     "cell_type": "code",
     "collapsed": false,
     "input": [
      "ward=df['Ward']\n",
      "tot_val=df['CURRENT_TOTAL_ASSMT_11']\n",
      "pin=df['pin1']\n",
      "house=df['HOUSENO']\n",
      "direction=df['DIR']\n",
      "street=df['STREET']\n",
      "age_11=df['AGE_11']\n",
      "attic_desc_11=df['ATTIC_DESC_11']\n",
      "basement_desc_11=df['BASEMENT_DESC_11']\n",
      "class_description_11=df['CLASS_DESCRIPTION_11']\n",
      "current_building_assmt_11=df['CURRENT_BUILDING_ASSMT_11']\n",
      "current_land_assmt_11=df['CURRENT_LAND_ASSMT_11']\n",
      "current_total_assmt_11=df['CURRENT_TOTAL_ASSMT_11']\n",
      "ext_desc_11=df['EXT_DESC_11']\n",
      "garage_desc_11=df['GARAGE_DESC_11']\n",
      "sqft_bldg_11=df['sqft_bldg_11']"
     ],
     "language": "python",
     "outputs": []
    },
    {
     "cell_type": "code",
     "collapsed": false,
     "input": [
      "sqft_land_11=df['sqft_land_11']\n",
      "ptype2011=df['PTYPE2011']\n",
      "type1_pt_SF=df['Type1_PT_SF']\n",
      "type1_pt_Condo=df['Type1_PT_Condo']\n",
      "type1_pt_2_4=df['Type1_PT_2_4']\n",
      "type1_pt_5=df['Type1_PT_5']\n",
      "type1_pt_NonRes=df['Type1_PT_NonRes']\n",
      "type1_pt_Unknown=df['Type1_PT_Unknown']\n",
      "pt_type1_cat=df['PT_Type1_Cat']\n",
      "adj_modi_hunit_2011=df['Adj_Modi_Hunit_2011']\n",
      "lat_Y=df['LAT_Y']\n",
      "lng_X=df['LNG_X']\n",
      "tract_fix=df['Tract_Fix']\n",
      "no_tract_Info=df['No_Tract_Info']\n",
      "ca_num=df['CA_num']\n",
      "ca_name=df['CA_name']\n",
      "place00=df['Place00']\n",
      "ward=df['Ward']\n",
      "chicagoflag=df['ChicagoFlag']\n",
      "gisdate=df['GISDate']\n"
     ],
     "language": "python",
     "outputs": []
    },
    {
     "cell_type": "code",
     "collapsed": false,
     "input": [
      "df['ca_name']=ca_name.map(lambda x: np.nan if isinstance(x, basestring) and (x.isspace() or (x == 'LETTER PROPERTY')) else x)\n",
      "df['Ward']=df['Ward'].map(lambda x: np.nan if isinstance(x, basestring) and (x.isspace()) else x)\n",
      "df['AGE_11']=age_11.map(lambda x: np.nan if isinstance(x, basestring) and (x.isspace()) else x)\n",
      "df['CURRENT_BUILDING_ASSMT_11']=df['CURRENT_BUILDING_ASSMT_11'].map(lambda x: np.nan if isinstance(x, basestring) and (x.isspace() or (x == 'LETTER PROPERTY')) else x)\n",
      "df['CURRENT_LAND_ASSMT_11']=df['CURRENT_LAND_ASSMT_11'].map(lambda x: np.nan if isinstance(x, basestring) and (x.isspace() or (x == 'LETTER PROPERTY')) else x) \n",
      "df['CURRENT_TOTAL_ASSMT_11']=df['CURRENT_TOTAL_ASSMT_11'].map(lambda x: np.nan if isinstance(x, basestring) and (x.isspace() or (x == 'LETTER PROPERTY')) else x)\n"
     ],
     "language": "python",
     "outputs": []
    },
    {
     "cell_type": "code",
     "collapsed": false,
     "input": [
      "cook_house_stock_properties=pd.concat([ward,chicagoflag,ca_name,ca_num,sqft_bldg_11,sqft_land_11,age_11,current_total_assmt_11,current_building_assmt_11,current_land_assmt_11],join='outer',axis=1)\n",
      "chicago_house_properties=cook_house_stock_properties[ chicagoflag == 1]"
     ],
     "language": "python",
     "outputs": []
    },
    {
     "cell_type": "code",
     "collapsed": false,
     "input": [
      "#Drop na's\n",
      "cook_house_stock_properties=cook_house_stock_properties.dropna()"
     ],
     "language": "python",
     "outputs": []
    },
    {
     "cell_type": "code",
     "collapsed": false,
     "input": [
      "cook_house_stock_properties?\n"
     ],
     "language": "python",
     "outputs": []
    },
    {
     "cell_type": "code",
     "collapsed": false,
     "input": [
      "cook_house_stock_properties.columns"
     ],
     "language": "python",
     "outputs": []
    },
    {
     "cell_type": "code",
     "collapsed": false,
     "input": [
      "#process integers\n",
      "cook_house_stock_properties['CA_num']=cook_house_stock_properties['CA_num'].map(int)\n",
      "cook_house_stock_properties['sqft_bldg_11']=cook_house_stock_properties['sqft_bldg_11'].map(int)\n",
      "cook_house_stock_properties['sqft_land_11']=cook_house_stock_properties['sqft_land_11'].map(int)\n"
     ],
     "language": "python",
     "outputs": []
    },
    {
     "cell_type": "code",
     "collapsed": false,
     "input": [
      "cook_house_stock_properties['CURRENT_BUILDING_ASSMT_11']=cook_house_stock_properties['CURRENT_BUILDING_ASSMT_11'].map(int)\n",
      "cook_house_stock_properties['CURRENT_LAND_ASSMT_11']=cook_house_stock_properties['CURRENT_LAND_ASSMT_11'].map(int)\n",
      "cook_house_stock_properties['CURRENT_TOTAL_ASSMT_11']=cook_house_stock_properties['CURRENT_TOTAL_ASSMT_11'].map(int)\n"
     ],
     "language": "python",
     "outputs": []
    },
    {
     "cell_type": "code",
     "collapsed": false,
     "input": [],
     "language": "python",
     "outputs": []
    }
   ]
  }
 ]
}