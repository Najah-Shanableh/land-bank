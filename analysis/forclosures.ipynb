{
 "metadata": {
  "name": "forclosures"
 },
 "nbformat": 3,
 "nbformat_minor": 0,
 "worksheets": [
  {
   "cells": [
    {
     "cell_type": "code",
     "collapsed": false,
     "input": [
      "import pandas as pd\n",
      "import numpy as np\n",
      "df=pd.read_table(\"/home/evan/Documents/chicago/ihs/repdata_forc_2012q4_Fellows.tsv\",sep=\"\\t\")\n",
      "print df.columns"
     ],
     "language": "python",
     "outputs": [
      {
       "output_type": "stream",
       "stream": "stdout",
       "text": [
        "Index([pin1, filing_date, case_num1, case_num2, case_num3, Defendant_First_Name, Defendant_Last_Name, Plantiff, YYYYQ_DOC, YEARD, APT, DIR, HOUSENO, STREET, SUFFIX, ADDR_FINAL, CITY_FINAL, LAT_Y, LNG_X, Tract_Fix, No_Tract_Info, CA_num, CA_name, Place00, GISDate, PTYPE1_CAT, RESIDENTIAL_PROPERTY, ADJ_YYYYQ, ADJ_YYYYD], dtype=object)\n"
       ]
      }
     ],
     "prompt_number": 41
    },
    {
     "cell_type": "code",
     "collapsed": false,
     "input": [
      "df['Place00'][:10]"
     ],
     "language": "python",
     "outputs": [
      {
       "output_type": "pyout",
       "prompt_number": 5,
       "text": [
        "1     Barrington           \n",
        "2     Barrington           \n",
        "3     Barrington Hills     \n",
        "4     Barrington Hills     \n",
        "5     Barrington Hills     \n",
        "6     Barrington Hills     \n",
        "7                          \n",
        "8     Barrington Hills     \n",
        "9     Barrington Hills     \n",
        "10    Inverness            \n",
        "Name: Place00, dtype: object"
       ]
      }
     ],
     "prompt_number": 5
    },
    {
     "cell_type": "code",
     "collapsed": false,
     "input": [
      "df['PTYPE1_CAT'].unique()"
     ],
     "language": "python",
     "outputs": [
      {
       "output_type": "pyout",
       "prompt_number": 7,
       "text": [
        "array([1, 5, 2, 4, 3])"
       ]
      }
     ],
     "prompt_number": 7
    },
    {
     "cell_type": "code",
     "collapsed": false,
     "input": [
      "df['Plantiff']=df['Plantiff'].map(lambda x: np.nan if isinstance(x, basestring) and (x.isspace() or (x == 'LETTER PROPERTY')) else x) "
     ],
     "language": "python",
     "outputs": [],
     "prompt_number": 42
    },
    {
     "cell_type": "code",
     "collapsed": false,
     "input": [
      "df['Plantiff'][:10]"
     ],
     "language": "python",
     "outputs": [
      {
       "output_type": "pyout",
       "prompt_number": 43,
       "text": [
        "1     NaN\n",
        "2     NaN\n",
        "3     NaN\n",
        "4     NaN\n",
        "5     NaN\n",
        "6     NaN\n",
        "7     NaN\n",
        "8     NaN\n",
        "9     NaN\n",
        "10    NaN\n",
        "Name: Plantiff, dtype: object"
       ]
      }
     ],
     "prompt_number": 43
    },
    {
     "cell_type": "code",
     "collapsed": false,
     "input": [
      "# Index([pin1, filing_date, case_num1, case_num2, case_num3, Defendant_First_Name, Defendant_Last_Name, Plantiff, YYYYQ_DOC, YEARD, APT, DIR, HOUSENO, STREET, SUFFIX, ADDR_FINAL, CITY_FINAL, LAT_Y, LNG_X, Tract_Fix, No_Tract_Info, CA_num, CA_name, Place00, GISDate, PTYPE1_CAT, RESIDENTIAL_PROPERTY, ADJ_YYYYQ, ADJ_YYYYD], dtype=object)\n",
      "YYYYQ_DOC=df['YYYYQ_DOC']\n",
      "PTYPE1_CAT=df['PTYPE1_CAT']\n",
      "CA_num=df['CA_num']\n",
      "CA_name=df['CA_name']\n",
      "RESIDENTIAL_PROPERTY=df['RESIDENTIAL_PROPERTY']"
     ],
     "language": "python",
     "outputs": [],
     "prompt_number": 44
    },
    {
     "cell_type": "code",
     "collapsed": false,
     "input": [
      "forclosure_count_by_ca_name=df[['YYYYQ_DOC','PTYPE1_CAT','CA_num','CA_name','RESIDENTIAL_PROPERTY']]\n"
     ],
     "language": "python",
     "outputs": [],
     "prompt_number": 45
    },
    {
     "cell_type": "code",
     "collapsed": false,
     "input": [
      "forclosure_count_by_ca_name['yyyyq_doc']=forclosure_count_by_ca_name['YYYYQ_DOC'].map(int64)"
     ],
     "language": "python",
     "outputs": [],
     "prompt_number": 53
    },
    {
     "cell_type": "code",
     "collapsed": false,
     "input": [
      "forclosure_count_by_ca_name=forclosure_count_by_ca_name[forclosure_count_by_ca_name['yyyyq_doc'].notnull()]"
     ],
     "language": "python",
     "outputs": [],
     "prompt_number": 50
    },
    {
     "cell_type": "code",
     "collapsed": false,
     "input": [
      "forclosure_count_by_ca_name"
     ],
     "language": "python",
     "outputs": [
      {
       "html": [
        "<pre>\n",
        "&ltclass 'pandas.core.frame.DataFrame'&gt\n",
        "Int64Index: 291069 entries, 1 to 291069\n",
        "Data columns (total 7 columns):\n",
        "YYYYQ_DOC               291069  non-null values\n",
        "PTYPE1_CAT              291069  non-null values\n",
        "CA_num                  291069  non-null values\n",
        "CA_name                 291069  non-null values\n",
        "RESIDENTIAL_PROPERTY    291069  non-null values\n",
        "yyyyq_doc               291069  non-null values\n",
        "open_fc                 0  non-null values\n",
        "dtypes: float64(1), int64(5), object(1)\n",
        "</pre>"
       ],
       "output_type": "pyout",
       "prompt_number": 58,
       "text": [
        "<class 'pandas.core.frame.DataFrame'>\n",
        "Int64Index: 291069 entries, 1 to 291069\n",
        "Data columns (total 7 columns):\n",
        "YYYYQ_DOC               291069  non-null values\n",
        "PTYPE1_CAT              291069  non-null values\n",
        "CA_num                  291069  non-null values\n",
        "CA_name                 291069  non-null values\n",
        "RESIDENTIAL_PROPERTY    291069  non-null values\n",
        "yyyyq_doc               291069  non-null values\n",
        "open_fc                 0  non-null values\n",
        "dtypes: float64(1), int64(5), object(1)"
       ]
      }
     ],
     "prompt_number": 58
    },
    {
     "cell_type": "code",
     "collapsed": false,
     "input": [
      "fc=forclosure_count_by_ca_name.groupby('CA_name').count()['YYYYQ_DOC']\n"
     ],
     "language": "python",
     "outputs": [],
     "prompt_number": 79
    },
    {
     "cell_type": "code",
     "collapsed": false,
     "input": [
      "fcs=forclosure_count_by_ca_name['YYYYQ_DOC'].unique()"
     ],
     "language": "python",
     "outputs": [],
     "prompt_number": 91
    },
    {
     "cell_type": "code",
     "collapsed": false,
     "input": [
      "np.sort(fcs)"
     ],
     "language": "python",
     "outputs": [
      {
       "output_type": "pyout",
       "prompt_number": 93,
       "text": [
        "array([20051, 20052, 20053, 20054, 20061, 20062, 20063, 20064, 20071,\n",
        "       20072, 20073, 20074, 20081, 20082, 20083, 20084, 20091, 20092,\n",
        "       20093, 20094, 20101, 20102, 20103, 20104, 20111, 20112, 20113,\n",
        "       20114, 20121, 20122, 20123, 20124])"
       ]
      }
     ],
     "prompt_number": 93
    },
    {
     "cell_type": "code",
     "collapsed": false,
     "input": [
      "a"
     ],
     "language": "python",
     "outputs": [
      {
       "html": [
        "<pre>\n",
        "&ltclass 'pandas.core.frame.DataFrame'&gt\n",
        "Index: 10 entries, Albany Park            to Beverly               \n",
        "Data columns (total 7 columns):\n",
        "YYYYQ_DOC               10  non-null values\n",
        "PTYPE1_CAT              10  non-null values\n",
        "CA_num                  10  non-null values\n",
        "CA_name                 10  non-null values\n",
        "RESIDENTIAL_PROPERTY    10  non-null values\n",
        "yyyyq_doc               10  non-null values\n",
        "open_fc                 10  non-null values\n",
        "dtypes: int64(7)\n",
        "</pre>"
       ],
       "output_type": "pyout",
       "prompt_number": 75,
       "text": [
        "                        YYYYQ_DOC  PTYPE1_CAT  CA_num  CA_name  \\\n",
        "CA_name                                                          \n",
        "Albany Park                  1719        1719    1719     1719   \n",
        "Archer Heights                624         624     624      624   \n",
        "Armour Square                 109         109     109      109   \n",
        "Ashburn                      3714        3714    3714     3714   \n",
        "Auburn Gresham               3873        3873    3873     3873   \n",
        "Austin                       6804        6804    6804     6804   \n",
        "Avalon Park                  1045        1045    1045     1045   \n",
        "Avondale                     1718        1718    1718     1718   \n",
        "Belmont Cragin               4615        4615    4615     4615   \n",
        "Beverly                       898         898     898      898   \n",
        "\n",
        "                        RESIDENTIAL_PROPERTY  yyyyq_doc  open_fc  \n",
        "CA_name                                                           \n",
        "Albany Park                             1719       1719        0  \n",
        "Archer Heights                           624        624        0  \n",
        "Armour Square                            109        109        0  \n",
        "Ashburn                                 3714       3714        0  \n",
        "Auburn Gresham                          3873       3873        0  \n",
        "Austin                                  6804       6804        0  \n",
        "Avalon Park                             1045       1045        0  \n",
        "Avondale                                1718       1718        0  \n",
        "Belmont Cragin                          4615       4615        0  \n",
        "Beverly                                  898        898        0  "
       ]
      }
     ],
     "prompt_number": 75
    },
    {
     "cell_type": "code",
     "collapsed": false,
     "input": [
      "forclosure_count_by_ca_name['open_fc'][:10]"
     ],
     "language": "python",
     "outputs": [
      {
       "output_type": "pyout",
       "prompt_number": 48,
       "text": [
        "1    NaN\n",
        "2    NaN\n",
        "3    NaN\n",
        "4    NaN\n",
        "5    NaN\n",
        "6    NaN\n",
        "7    NaN\n",
        "8    NaN\n",
        "9    NaN\n",
        "10   NaN\n",
        "Name: open_fc, dtype: float64"
       ]
      }
     ],
     "prompt_number": 48
    },
    {
     "cell_type": "code",
     "collapsed": false,
     "input": [
      "forclosure_count_by_ca_name['open_fc'][:10]"
     ],
     "language": "python",
     "outputs": [
      {
       "output_type": "pyout",
       "prompt_number": 38,
       "text": [
        "1    NaN\n",
        "2    NaN\n",
        "3    NaN\n",
        "4    NaN\n",
        "5    NaN\n",
        "6    NaN\n",
        "7    NaN\n",
        "8    NaN\n",
        "9    NaN\n",
        "10   NaN\n",
        "Name: open_fc, dtype: float64"
       ]
      }
     ],
     "prompt_number": 38
    },
    {
     "cell_type": "code",
     "collapsed": false,
     "input": [
      "fc=forclosure_count_by_ca_name.groupby(['CA_name','YYYYQ_DOC']).count()['YYYYQ_DOC']"
     ],
     "language": "python",
     "outputs": [],
     "prompt_number": 94
    },
    {
     "cell_type": "code",
     "collapsed": false,
     "input": [
      "fc "
     ],
     "language": "python",
     "outputs": [
      {
       "output_type": "pyout",
       "prompt_number": 95,
       "text": [
        "CA_name                 YYYYQ_DOC\n",
        "Albany Park             20051         3\n",
        "                        20052         6\n",
        "                        20053         8\n",
        "                        20054        14\n",
        "                        20061        10\n",
        "                        20062        13\n",
        "                        20063        15\n",
        "                        20064        17\n",
        "                        20071        28\n",
        "                        20072        22\n",
        "                        20073        59\n",
        "                        20074        49\n",
        "                        20081        51\n",
        "                        20082        63\n",
        "                        20083        42\n",
        "...\n",
        "Woodlawn                20092        39\n",
        "                        20093        69\n",
        "                        20094        94\n",
        "                        20101        67\n",
        "                        20102        86\n",
        "                        20103        64\n",
        "                        20104        68\n",
        "                        20111        50\n",
        "                        20112        57\n",
        "                        20113        40\n",
        "                        20114        55\n",
        "                        20121        51\n",
        "                        20122        53\n",
        "                        20123        52\n",
        "                        20124        38\n",
        "Name: YYYYQ_DOC, Length: 2617, dtype: int64"
       ]
      }
     ],
     "prompt_number": 95
    },
    {
     "cell_type": "code",
     "collapsed": false,
     "input": [],
     "language": "python",
     "outputs": []
    },
    {
     "cell_type": "code",
     "collapsed": false,
     "input": [],
     "language": "python",
     "outputs": []
    }
   ]
  }
 ]
}