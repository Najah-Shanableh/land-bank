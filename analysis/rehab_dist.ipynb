{
 "metadata": {
  "name": "rehab_dist"
 },
 "nbformat": 3,
 "nbformat_minor": 0,
 "worksheets": [
  {
   "cells": [
    {
     "cell_type": "code",
     "collapsed": false,
     "input": [
      "import numpy as np\n",
      "import pandas as pd\n",
      "import matplotlib.pyplot as plt"
     ],
     "language": "python",
     "metadata": {},
     "outputs": [],
     "prompt_number": 1
    },
    {
     "cell_type": "code",
     "collapsed": false,
     "input": [
      "df=pd.read_csv(\"/home/evan/Documents/chicago/ihs/data_median_land_price_psf_CA.csv\",sep=\",\")"
     ],
     "language": "python",
     "metadata": {},
     "outputs": [],
     "prompt_number": 2
    },
    {
     "cell_type": "code",
     "collapsed": false,
     "input": [
      "df.columns\n"
     ],
     "language": "python",
     "metadata": {},
     "outputs": []
    },
    {
     "cell_type": "code",
     "collapsed": false,
     "input": [
      "df[:0]"
     ],
     "language": "python",
     "metadata": {},
     "outputs": []
    },
    {
     "cell_type": "code",
     "collapsed": false,
     "input": [
      "df['PTYPE2011'].unique()"
     ],
     "language": "python",
     "metadata": {},
     "outputs": []
    },
    {
     "cell_type": "code",
     "collapsed": false,
     "input": [
      "sf=df[df['PTYPE2011']=='SINGLE FAMILY']"
     ],
     "language": "python",
     "metadata": {},
     "outputs": [],
     "prompt_number": 3
    },
    {
     "cell_type": "code",
     "collapsed": false,
     "input": [
      "df.count(axis=0)"
     ],
     "language": "python",
     "metadata": {},
     "outputs": []
    },
    {
     "cell_type": "code",
     "collapsed": false,
     "input": [
      "\n"
     ],
     "language": "python",
     "metadata": {},
     "outputs": []
    },
    {
     "cell_type": "code",
     "collapsed": false,
     "input": [
      "sf.count(axis=0)"
     ],
     "language": "python",
     "metadata": {},
     "outputs": []
    },
    {
     "cell_type": "code",
     "collapsed": false,
     "input": [
      "sf['land_assmt_11_psf'].hist()"
     ],
     "language": "python",
     "metadata": {},
     "outputs": []
    },
    {
     "cell_type": "code",
     "collapsed": false,
     "input": [
      "sf_high_land=sf[sf['land_assmt_11_psf']>3.5]"
     ],
     "language": "python",
     "metadata": {},
     "outputs": []
    },
    {
     "cell_type": "code",
     "collapsed": false,
     "input": [
      "sf_high_land.count(axis=0)"
     ],
     "language": "python",
     "metadata": {},
     "outputs": []
    },
    {
     "cell_type": "code",
     "collapsed": false,
     "input": [
      "sf_high_land['land_assmt_11_psf'].hist()"
     ],
     "language": "python",
     "metadata": {},
     "outputs": []
    },
    {
     "cell_type": "code",
     "collapsed": false,
     "input": [
      "sf_high_land['CA_name'].unique()"
     ],
     "language": "python",
     "metadata": {},
     "outputs": []
    },
    {
     "cell_type": "code",
     "collapsed": false,
     "input": [
      "sf['bldg_assmt_11_psf'].hist()"
     ],
     "language": "python",
     "metadata": {},
     "outputs": []
    },
    {
     "cell_type": "code",
     "collapsed": false,
     "input": [
      "sf['sqft_land_11'].hist()"
     ],
     "language": "python",
     "metadata": {},
     "outputs": []
    },
    {
     "cell_type": "code",
     "collapsed": false,
     "input": [
      "sf['sqft_bldg_11'].hist()"
     ],
     "language": "python",
     "metadata": {},
     "outputs": []
    },
    {
     "cell_type": "code",
     "collapsed": false,
     "input": [
      "CA_names=sf['CA_name'].unique()"
     ],
     "language": "python",
     "metadata": {},
     "outputs": [],
     "prompt_number": 4
    },
    {
     "cell_type": "code",
     "collapsed": false,
     "input": [
      "CA_names"
     ],
     "language": "python",
     "metadata": {},
     "outputs": [
      {
       "output_type": "pyout",
       "prompt_number": 5,
       "text": [
        "array(['Albany Park', 'Archer Heights', 'Armour Square', 'Ashburn',\n",
        "       'Auburn Gresham', 'Austin', 'Avalon Park', 'Avondale',\n",
        "       'Belmont Cragin', 'Beverly', 'Bridgeport', 'Brighton Park',\n",
        "       'Burnside', 'Calumet Heights', 'Chatham', 'Chicago Lawn',\n",
        "       'Clearing', 'Douglas', 'Dunning', 'East Garfield', 'East Side',\n",
        "       'Edgewater', 'Edison Park', 'Englewood', 'Forest Glen',\n",
        "       'Fuller Park', 'Gage Park', 'Garfield Ridge', 'Grand Boulevard',\n",
        "       'Greater Grand Crossing', 'Hegewisch', 'Hermosa', 'Humboldt Park',\n",
        "       'Hyde Park', 'Irving Park', 'Jefferson Park', 'Kenwood', 'Lakeview',\n",
        "       'Lincoln Park', 'Lincoln Square', 'Logan Square', 'Loop',\n",
        "       'Lower West Side', 'McKinley Park', 'Montclare', 'Morgan Park',\n",
        "       'Mount Greenwood', 'Near North Side', 'Near South Side',\n",
        "       'Near West Side', 'New City', 'North Center', 'North Cook',\n",
        "       'North Lawndale', 'North Park', 'Northwest Cook', 'Norwood Park',\n",
        "       \"O'Hare\", 'Oakland', 'Portage Park', 'Pullman', 'Riverdale',\n",
        "       'Rogers Park', 'Roseland', 'South Chicago', 'South Cook',\n",
        "       'South Deering', 'South Lawndale', 'South Shore', 'Southwest Cook',\n",
        "       'Uptown', 'Washingon Park', 'Washington Heights', 'West Cook',\n",
        "       'West Elsdon', 'West Englewood', 'West Garfield', 'West Lawn',\n",
        "       'West Pullman', 'West Ridge', 'West Town', 'Woodlawn'], dtype=object)"
       ]
      }
     ],
     "prompt_number": 5
    },
    {
     "cell_type": "code",
     "collapsed": false,
     "input": [
      "for ca in CA_names:\n",
      "    sf['land_assmt_11_psf'][sf['CA_name']==ca].hist()   "
     ],
     "language": "python",
     "metadata": {},
     "outputs": []
    },
    {
     "cell_type": "code",
     "collapsed": false,
     "input": [
      "sf['Msqft_land_11']=(10 ** (-3))*sf['sqft_land_11']\n",
      "sf['Msqft_bldg_11']=(10 ** (-3))*sf['sqft_bldg_11']\n"
     ],
     "language": "python",
     "metadata": {},
     "outputs": [],
     "prompt_number": 6
    },
    {
     "cell_type": "code",
     "collapsed": false,
     "input": [
      "sf['Msqft_land_11'][:10]"
     ],
     "language": "python",
     "metadata": {},
     "outputs": []
    },
    {
     "cell_type": "code",
     "collapsed": false,
     "input": [
      "ap_land_psf=sf['land_assmt_11_psf'][sf['CA_name']==CA_names[0]].map(lambda x: x if x != inf else np.nan)\n",
      "ap_bldg_psf=sf['bldg_assmt_11_psf'][sf['CA_name']==CA_names[0]].map(lambda x: x if x != inf else np.nan)"
     ],
     "language": "python",
     "metadata": {},
     "outputs": []
    },
    {
     "cell_type": "code",
     "collapsed": false,
     "input": [
      "print ap_bldg_psf.max(),ap_bldg_psf.min(),ap_bldg_psf.name"
     ],
     "language": "python",
     "metadata": {},
     "outputs": []
    },
    {
     "cell_type": "code",
     "collapsed": false,
     "input": [
      "\n",
      "baseDir=\"/home/evan/Documents/chicago/dssg-landbank-project/analysis/ca_desc/\"\n",
      "for ca in CA_names:\n",
      "    ap_land_psf=sf['land_assmt_11_psf'][sf['CA_name']==ca].map(lambda x: x if x != inf else np.nan)\n",
      "    ap_bldg_psf=sf['bldg_assmt_11_psf'][sf['CA_name']==ca].map(lambda x: x if x != inf else np.nan)\n",
      "    fig = plt.figure()\n",
      "    fig.suptitle(ca,fontsize=14)\n",
      "    ax=fig.add_subplot(221)\n",
      "    n, bins, patches = ax.hist(ap_land_psf[ap_land_psf.notnull()].T, bins = 10, normed=False, facecolor='red', alpha=0.4)\n",
      "    ax.set_xlabel('$')\n",
      "    ax.set_ylabel('Count')\n",
      "    ax.set_title('Land PSF and Size Dist')\n",
      "    ax.grid(True)\n",
      "    ax=fig.add_subplot(222)\n",
      "    to_hist = ap_bldg_psf.T.values\n",
      "    to_hist = to_hist[np.logical_not(np.isnan(to_hist))]\n",
      "    n, bins, patches = ax.hist(to_hist, bins = 10, normed=False, facecolor='red', alpha=0.4)\n",
      "    ax.set_xlabel('$')\n",
      "    ax.grid(True)\n",
      "    ax.set_title('Building PSF and Size Dist')\n",
      "    ax=fig.add_subplot(223)\n",
      "    ax.set_xlabel('10^3 ft^2')\n",
      "    ax.set_ylabel('count')\n",
      "    n, bins, patches = ax.hist(sf['Msqft_land_11'][sf['CA_name']==ca][ap_land_psf.notnull()].T, bins = 10, normed=False, facecolor='blue', alpha=0.4)\n",
      "    ax.grid(True)\n",
      "    ax=fig.add_subplot(224)\n",
      "    ax.set_xlabel('10^3 ft^2')\n",
      "    n, bins, patches = ax.hist(sf['Msqft_bldg_11'][sf['CA_name']==ca][ap_land_psf.notnull()].T, bins = 10, normed=False, facecolor='blue', alpha=0.4)\n",
      "    ax.grid(True)\n",
      "    fig.set_size_inches(7,5)\n",
      "    fig.tight_layout()\n",
      "    fig.subplots_adjust(top=0.85)\n",
      "    fig.savefig('/home/evan/Documents/chicago/dssg-landbank-project/analysis/ca_desc/'+ ca + '.png')\n",
      "#    plt.show()\n",
      "    fig.clf()\n"
     ],
     "language": "python",
     "metadata": {},
     "outputs": [],
     "prompt_number": 31
    },
    {
     "cell_type": "code",
     "collapsed": false,
     "input": [
      "fig.clf()\n",
      "clf()"
     ],
     "language": "python",
     "metadata": {},
     "outputs": []
    },
    {
     "cell_type": "code",
     "collapsed": false,
     "input": [
      "sf['bldg_assmt_11_psf'][sf['CA_name']==CA_names[0]][:5]"
     ],
     "language": "python",
     "metadata": {},
     "outputs": []
    },
    {
     "cell_type": "code",
     "collapsed": false,
     "input": [
      "sf['bldg_assmt_11_psf'][sf['CA_name']==CA_names[0]].hist()   \n",
      "grid(True)\n",
      "title('Building size and price')\n"
     ],
     "language": "python",
     "metadata": {},
     "outputs": []
    },
    {
     "cell_type": "code",
     "collapsed": false,
     "input": [
      "sf['bldg_assmt_11_psf'][sf['CA_name']==CA_names[0]][:5]"
     ],
     "language": "python",
     "metadata": {},
     "outputs": []
    },
    {
     "cell_type": "code",
     "collapsed": false,
     "input": [
      "CA_names[:1]"
     ],
     "language": "python",
     "metadata": {},
     "outputs": []
    },
    {
     "cell_type": "code",
     "collapsed": false,
     "input": [
      "hist(sf['land_assmt_11_psf'][sf['CA_name']==CA_names[0]])   \n",
      "grid(True)\n",
      "title('Distribution of size and price')\n",
      "ylabel('count')\n",
      "xlabel('$')\n"
     ],
     "language": "python",
     "metadata": {},
     "outputs": []
    },
    {
     "cell_type": "code",
     "collapsed": false,
     "input": [
      "sf['land_assmt_11_psf'][sf['CA_name']==CA_names[0]]\n",
      "   "
     ],
     "language": "python",
     "metadata": {},
     "outputs": []
    },
    {
     "cell_type": "code",
     "collapsed": false,
     "input": [
      "plt.hist(sf['land_assmt_11_psf'][sf['CA_name']==CA_names[0]])\n"
     ],
     "language": "python",
     "metadata": {},
     "outputs": []
    },
    {
     "cell_type": "code",
     "collapsed": false,
     "input": [
      "plt"
     ],
     "language": "python",
     "metadata": {},
     "outputs": []
    },
    {
     "cell_type": "code",
     "collapsed": false,
     "input": [
      "plt.pyplot.hist([1, 2, 3, 2, 1, 3, 3, 3, 4])"
     ],
     "language": "python",
     "metadata": {},
     "outputs": []
    },
    {
     "cell_type": "code",
     "collapsed": false,
     "input": [
      "sf['land_assmt_11_psf'][sf['CA_name']==CA_names[0]]"
     ],
     "language": "python",
     "metadata": {},
     "outputs": []
    },
    {
     "cell_type": "code",
     "collapsed": false,
     "input": [
      "type(_)"
     ],
     "language": "python",
     "metadata": {},
     "outputs": []
    },
    {
     "cell_type": "code",
     "collapsed": false,
     "input": [
      "tmp = sf['land_assmt_11_psf'][sf['CA_name']==CA_names[0]]"
     ],
     "language": "python",
     "metadata": {},
     "outputs": []
    },
    {
     "cell_type": "code",
     "collapsed": false,
     "input": [
      "tmp[:, 1]"
     ],
     "language": "python",
     "metadata": {},
     "outputs": []
    },
    {
     "cell_type": "code",
     "collapsed": false,
     "input": [
      "dir(tmp)"
     ],
     "language": "python",
     "metadata": {},
     "outputs": []
    },
    {
     "cell_type": "code",
     "collapsed": false,
     "input": [
      "tmp.values"
     ],
     "language": "python",
     "metadata": {},
     "outputs": []
    },
    {
     "cell_type": "code",
     "collapsed": false,
     "input": [
      "plt.pyplot.hist(tmp.values)"
     ],
     "language": "python",
     "metadata": {},
     "outputs": []
    },
    {
     "cell_type": "code",
     "collapsed": false,
     "input": [
      "tmp.values"
     ],
     "language": "python",
     "metadata": {},
     "outputs": []
    },
    {
     "cell_type": "code",
     "collapsed": false,
     "input": [
      "np"
     ],
     "language": "python",
     "metadata": {},
     "outputs": []
    },
    {
     "cell_type": "code",
     "collapsed": false,
     "input": [
      "np.min(tmp.values)"
     ],
     "language": "python",
     "metadata": {},
     "outputs": []
    },
    {
     "cell_type": "code",
     "collapsed": false,
     "input": [
      "np.max(tmp.values)"
     ],
     "language": "python",
     "metadata": {},
     "outputs": []
    },
    {
     "cell_type": "code",
     "collapsed": false,
     "input": [
      "tmp = [x for x in tmp if x is not np.nan]"
     ],
     "language": "python",
     "metadata": {},
     "outputs": []
    },
    {
     "cell_type": "code",
     "collapsed": false,
     "input": [
      "np.min(tmp)"
     ],
     "language": "python",
     "metadata": {},
     "outputs": []
    },
    {
     "cell_type": "code",
     "collapsed": false,
     "input": [],
     "language": "python",
     "metadata": {},
     "outputs": []
    }
   ],
   "metadata": {}
  }
 ]
}